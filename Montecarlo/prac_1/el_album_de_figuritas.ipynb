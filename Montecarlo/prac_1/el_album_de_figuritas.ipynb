{
 "cells": [
  {
   "cell_type": "code",
   "execution_count": 4,
   "metadata": {
    "id": "UrHGNXo1ITdv"
   },
   "outputs": [],
   "source": [
    "\"\"\"\n",
    "#  EJERCICIO EL ALBUM DE FIGURITAS\n",
    "\n",
    "\n",
    "EL ALBUM CONTIENE 640 FIGUS.\n",
    "CADA FIGU TIENE LA MISMA PROBABILIDAD DE SALIR\n",
    "CADA PAQUETE TRAE 5 FIGUS\n",
    "\"\"\"\n",
    "import random\n",
    "import numpy as np\n",
    "import matplotlib.pyplot as plt\n"
   ]
  },
  {
   "cell_type": "code",
   "execution_count": 5,
   "metadata": {
    "id": "MVt5rCwIIeEf"
   },
   "outputs": [],
   "source": [
    "# EJERCICIO 5.10 CREAR ALBUM\n",
    "\n",
    "def crear_album(figus_total):\n",
    "    '''     \n",
    "    Creo el album de figuritas\n",
    "    Crea un np array del tamaño del album lleno de ceros \n",
    "    '''\n",
    "    album = np.zeros(figus_total)\n",
    "    \n",
    "    return album\n"
   ]
  },
  {
   "cell_type": "code",
   "execution_count": 6,
   "metadata": {
    "id": "7FG_q0qQIwNh"
   },
   "outputs": [],
   "source": [
    "# EJERCICIO 5.11 INCOMPLETO O NO?\n",
    "    \n",
    "def album_incompleto(A): \n",
    "    '''\n",
    "     Mira si el album está incompleto.\n",
    "     Si hay ceros en A, dará True\n",
    "     '''\n",
    "    esta_incompleto = False\n",
    "    if 0 in A:     \n",
    "        esta_incompleto = True\n",
    "      \n",
    "    return esta_incompleto\n"
   ]
  },
  {
   "cell_type": "code",
   "execution_count": 7,
   "metadata": {
    "id": "rLII3cReI1DH"
   },
   "outputs": [],
   "source": [
    "# EJERCICIO 5.12 COMPRAR FIGUS\n",
    "    \n",
    "def comprar_figu(figus_total):\n",
    "    '''\n",
    "    Compro figuritas de a 1.\n",
    "    Para eso, genero un número entero (seudo) aleatorio de entre los 670 posibles.    \n",
    "    '''\n",
    "    figu_comprada = random.randint(1, figus_total)\n",
    "     \n",
    "    return figu_comprada\n",
    "    "
   ]
  },
  {
   "cell_type": "code",
   "execution_count": 8,
   "metadata": {
    "id": "HdHgb4avI585"
   },
   "outputs": [],
   "source": [
    "# EJERCICIO 5.13 CANTIDAD DE COMPRAS\n",
    "\n",
    "def cuantas_figus(figus_total):\n",
    "    '''\n",
    "    Dado el tamaño del álbum (figus_total), genere un álbum nuevo, simule su \n",
    "    llenado y devuelva la cantidad de figuritas que se debieron comprar para \n",
    "    completarlo.\n",
    "    '''\n",
    "    compras = 0\n",
    "    album = crear_album(figus_total)\n",
    "    \n",
    "    while album_incompleto(album) == True:\n",
    "        figu_comprada = comprar_figu(figus_total)\n",
    "        compras += 1\n",
    "        album[figu_comprada - 1] += 1    \n",
    "     \n",
    "    return compras\n",
    "    "
   ]
  },
  {
   "cell_type": "code",
   "execution_count": 9,
   "metadata": {
    "id": "o1zl8OWiI-Ye"
   },
   "outputs": [
    {
     "data": {
      "text/plain": [
       "\"\\nprint(f'Haciendo 1000 repeticiones, para llenar un album de 6 figus, hay que \\ncomprar un promedio de {round(album_de_seis())} figuritas')\\nDa que hay que comprar 15 figus, o sea, 2.5 veces el tamaño del album    \\n\""
      ]
     },
     "execution_count": 9,
     "metadata": {},
     "output_type": "execute_result"
    }
   ],
   "source": [
    "# EJERCICIO 5.14 CUÁNTAS FIGUS HAY QUE COMPRAR PARA LLENAR UN ALBUM DE 6 FIGUS?\n",
    "'''\n",
    "print(f'Haciendo 1000 repeticiones, para llenar un album de 6 figus, hay que \n",
    "comprar un promedio de {round(album_de_seis())} figuritas')\n",
    "Da que hay que comprar 15 figus, o sea, 2.5 veces el tamaño del album    \n",
    "'''\n"
   ]
  },
  {
   "cell_type": "code",
   "execution_count": 10,
   "metadata": {
    "id": "SQ77hcOlJD4g"
   },
   "outputs": [],
   "source": [
    "# EJERCICIO 5.15 \n",
    "\n",
    "def experimento_figus(n_repeticiones, figus_total):\n",
    "    '''\n",
    "    Va comprando figuritas y poniéndolas en el álbum que tiene lugar para \n",
    "    figus_total . Mientras el álbum esté incompleto, el proceso se repite.\n",
    "    La cantidad de compras hasta que se completa el álbum se guarda en una lista, \n",
    "    esto se repite n_repeticiones. Sobre esa lista de n_repeticiones elementos se \n",
    "    calcula el promedio y ese valor es el que se retorna.\n",
    "    '''\n",
    "    cuantas_compras = [cuantas_figus(figus_total) for i in range(n_repeticiones)] \n",
    "    promedio_compras = np.mean(cuantas_compras)\n",
    "    \n",
    "    return promedio_compras\n",
    " "
   ]
  },
  {
   "cell_type": "code",
   "execution_count": 11,
   "metadata": {
    "id": "wWNRbtlHJH88"
   },
   "outputs": [],
   "source": [
    "# EJERCICIO 5.16/17 paquete de figuritas\n",
    "    \n",
    "def comprar_paquete(figus_total, figus_paquete):\n",
    "    '''\n",
    "    Tomo una muestra de k figuritas (k es el tamaño del paquete) de la cantidad\n",
    "    total de figuritas, que es figus, una lista con 670 elementos numerados.\n",
    "    La muestra que tomo es CON REPOSICIÓN, porque pueden venir repetidas en el \n",
    "    mismo paquete.\n",
    "    Por eso uso random.choices, en vez de random.sample\n",
    "    K es 5, la cantidad de figus x paquete.\n",
    "    '''\n",
    "    figus = [i+1 for i in range(figus_total)]\n",
    "    figus_compradas = random.choices(figus, k = figus_paquete)\n",
    "    \n",
    "    return figus_compradas\n",
    "    "
   ]
  },
  {
   "cell_type": "code",
   "execution_count": 12,
   "metadata": {
    "id": "b0IWyk6FJMEb"
   },
   "outputs": [],
   "source": [
    " # EJERCICIO 5.18 LLenar album con paquetes \n",
    "\n",
    "def cuantos_paquetes(figus_total, figus_paquete):\n",
    "    '''\n",
    "    Dado el tamaño del álbum (figus_total), genere un álbum nuevo, simule su \n",
    "    llenado y devuelva la cantidad de PAQUETES de figuritas que se debieron \n",
    "    comprar para completarlo.\n",
    "    '''\n",
    "    compras = 0\n",
    "    album = crear_album(figus_total)\n",
    "    \n",
    "    while album_incompleto(album) == True:\n",
    "        paquete_comprado = comprar_paquete(figus_total, figus_paquete)\n",
    "        compras += 1\n",
    "        for figu in paquete_comprado:\n",
    "            album[figu -1] += 1    \n",
    "     \n",
    "    return compras\n",
    "    "
   ]
  },
  {
   "cell_type": "code",
   "execution_count": 13,
   "metadata": {
    "id": "O6xHfgy4JP47"
   },
   "outputs": [],
   "source": [
    "# EJERCICIO 5.19  CUÁNTOS PAQUETES DE 5 HAY QUE COMPRAR PARA LLENAR EL ALBUM DE 670 FIGUS?\n",
    "\n",
    "def experimento_figus_670(n_repeticiones, figus_total, figus_paquete):\n",
    "    '''\n",
    "    RESULTADO OBTENIDO\n",
    "    Haciendo 100 repeticiones, para llenar un album de 670 figus, \n",
    "    hay que comprar un promedio de 959 de paquetes de figuritas\n",
    "    Haciendo 1000 repeticiones, para llenar un album de 670 figus, \n",
    "    hay que comprar un promedio de 954 de paquetes de figuritas\n",
    "    '''\n",
    "    paquetes = [cuantos_paquetes(figus_total, figus_paquete) for i in range(n_repeticiones)] \n",
    "    compras = np.array(paquetes)\n",
    "    promedio_compras = np.mean(compras)\n",
    "    \n",
    "    return promedio_compras\n"
   ]
  },
  {
   "cell_type": "code",
   "execution_count": 14,
   "metadata": {
    "id": "8CfzzwejJT-P"
   },
   "outputs": [],
   "source": [
    "# GRAFICAR CÓMO SE VA LLENANDO EL ALBUM\n",
    "    \n",
    "def calcular_historia_figus_pegadas(figus_total, figus_paquete):\n",
    "    album = crear_album(figus_total)\n",
    "    historia_figus_pegadas = [0]\n",
    "    while album_incompleto(album):\n",
    "        paquete = comprar_paquete(figus_total, figus_paquete)\n",
    "        while paquete:\n",
    "            album[paquete.pop()-1] = 1\n",
    "        figus_pegadas = (album>0).sum()\n",
    "        historia_figus_pegadas.append(figus_pegadas)        \n",
    "    \n",
    "    return historia_figus_pegadas\n"
   ]
  },
  {
   "cell_type": "code",
   "execution_count": 15,
   "metadata": {
    "id": "08qzOHoyJY7l"
   },
   "outputs": [],
   "source": [
    "def graficar_historia(figus_total, figus_paquete):\n",
    "    '''\n",
    "    Grafica cómo se va completando el álbum de figuritas.\n",
    "    '''\n",
    "    plt.figure()\n",
    "    plt.plot(calcular_historia_figus_pegadas(figus_total, figus_paquete))\n",
    "    plt.xlabel(\"Cantidad de paquetes comprados.\")\n",
    "    plt.ylabel(\"Cantidad de figuritas pegadas.\")\n",
    "    plt.title(\"La curva de llenado se desacelera al final\")\n",
    "    plt.show()\n",
    "    plt.close()\n",
    "    \n",
    "    return\n"
   ]
  },
  {
   "cell_type": "code",
   "execution_count": 16,
   "metadata": {
    "id": "xmM1juX0JdHE"
   },
   "outputs": [],
   "source": [
    "# EJERCICIO 5.20 PROBABILIDAD DE COMPLETAR EL ALBUM CON 850 PAQUETES\n",
    "\n",
    "def prob_completar_album(n_repeticiones, figus_total, figus_paquete, paq_lim):\n",
    "    '''\n",
    "    ESTIMA LA PROBABILIDAD DE COMPLETAR EL ALBUM CON HASTA UN NÚMERO LÍMITE DE PAQUETES\n",
    "    DA ENTRE 20 Y 35%\n",
    "    '''\n",
    "    paquetes = [cuantos_paquetes(figus_total, figus_paquete) for i in range(n_repeticiones)] \n",
    "    n_paquetes_hasta_llenar = np.array(paquetes)\n",
    "    np.save('paquetes.npy', n_paquetes_hasta_llenar)\n",
    "    # SUMA LA CANTIDAD DE VECES QUE APARECEN NÚMEROS MENORES O = QUE EL PAQ_LIM PROPUESTO\n",
    "    prob = (n_paquetes_hasta_llenar <= paq_lim).sum ()/n_repeticiones   \n",
    "    prob_90 = np.percentile(n_paquetes_hasta_llenar, 90)   # calcula el percentil 90, o sea, la probabilidad del 90%\n",
    "    \n",
    "    \n",
    "    return prob, prob_90\n",
    " "
   ]
  },
  {
   "cell_type": "code",
   "execution_count": 17,
   "metadata": {
    "id": "NFcawOs1Jhym"
   },
   "outputs": [],
   "source": [
    "# EJERCICIO 5.21 PLOTEAR HISTOGRAMA DE LLENADO DE ALBUM\n",
    "\n",
    "def plotear_paquetes_para_completar_album(n_repeticiones):\n",
    "    '''\n",
    "    Dibuja un histograma con la frecuencia en que aparece la cantidad de paquetes\n",
    "    para completar el álbum de figuritas.\n",
    "    '''\n",
    "    paquetes = np.load('paquetes.npy')\n",
    "    plt.figure()\n",
    "    plt.hist(paquetes, bins = 50, color = 'magenta')\n",
    "    plt.xlabel('Paquetes de Figuritas ')\n",
    "    plt.ylabel('Cantidad de sucesos')\n",
    "    plt.title(f'Distribución de paquetes para llenar el Álbum (n = {n_repeticiones} sucesos)', loc = 'center')\n",
    "    plt.savefig('paquetes.png', dpi = 300)\n",
    "    plt.show()\n",
    "    plt.close()\n",
    "    \n",
    "    return\n",
    " "
   ]
  },
  {
   "cell_type": "code",
   "execution_count": null,
   "metadata": {
    "id": "DVjOqGKxJlkM"
   },
   "outputs": [],
   "source": [
    "# EJERCICIO 5.23 sUPONER QUE NO HAY FIGUS REPETIDAS EN LOS PAQUETES\n",
    "    \n",
    "def comprar_paquete_sin_repes(figus_total, figus_paquete):\n",
    "    '''\n",
    "    Tomo una muestra de k figuritas (k es el tamaño del paquete) de la cantidad\n",
    "    total de figuritas, que es figus, una lista con 670 elementos numerados.\n",
    "    La muestra que tomo es SIN REPOSICIÓN, para no tener figuritas repetidas en \n",
    "    los paquetes.\n",
    "    Por eso uso random.sample\n",
    "    K es 5, la cantidad de figus x paquete.\n",
    "    '''\n",
    "    figus = [i+1 for i in range(figus_total)]\n",
    "    figus_compradas = random.sample(figus, k = figus_paquete)\n",
    "    \n",
    "    return figus_compradas\n",
    "\n",
    "def cuantos_paquetes_sin_repes(figus_total, figus_paquete):\n",
    "    '''\n",
    "    Dado el tamaño del álbum (figus_total), genere un álbum nuevo, simule su \n",
    "    llenado y devuelva la cantidad de PAQUETES de figuritas que se debieron \n",
    "    comprar para completarlo.\n",
    "    '''\n",
    "    compras = 0\n",
    "    album = crear_album(figus_total)\n",
    "    \n",
    "    while album_incompleto(album) == True:\n",
    "        paquete_comprado = comprar_paquete_sin_repes(figus_total, figus_paquete)\n",
    "        compras += 1\n",
    "        for figu in paquete_comprado:\n",
    "            album[figu -1] += 1    \n",
    "     \n",
    "    return compras\n",
    "    \n",
    "def experimento_figus_sin_repes(n_repeticiones, figus_total, figus_paquete):\n",
    "    '''\n",
    "    RESULTADO OBTENIDO\n",
    "    Haciendo 100 repeticiones, para llenar un album de 670 figus, \n",
    "    hay que comprar un promedio de 959 de paquetes de figuritas\n",
    "    Haciendo 1000 repeticiones, para llenar un album de 670 figus, \n",
    "    hay que comprar un promedio de 954 de paquetes de figuritas\n",
    "    '''\n",
    "    paquetes = [cuantos_paquetes_sin_repes(figus_total, figus_paquete) for i in range(n_repeticiones)] \n",
    "    promedio_paquetes = np.mean(paquetes)\n",
    "    \n",
    "    return promedio_paquetes\n",
    "\n",
    "def prob_completar_album_sin_rep(n_repeticiones, figus_total, figus_paquete, paq_lim):\n",
    "    '''\n",
    "    ESTIMA LA PROBABILIDAD DE COMPLETAR EL ALBUM CON HASTA UN NÚMERO LÍMITE DE PAQUETES\n",
    "    DA ENTRE 20 Y 35%\n",
    "    '''\n",
    "    paquetes = [cuantos_paquetes_sin_repes(figus_total, figus_paquete) for i in range(n_repeticiones)] \n",
    "    n_paquetes_hasta_llenar_sin_rep = np.array(paquetes)\n",
    "    np.save('paquetes_sin_rep.npy', n_paquetes_hasta_llenar_sin_rep)\n",
    "    # SUMA LA CANTIDAD DE VECES QUE APARECEN NÚMEROS MENORES O = QUE EL PAQ_LIM PROPUESTO\n",
    "    prob = (n_paquetes_hasta_llenar_sin_rep <= paq_lim).sum ()/n_repeticiones   \n",
    "    prob_90 = np.percentile(n_paquetes_hasta_llenar_sin_rep, 90)   # calcula el percentil 90, o sea, la probabilidad del 90%\n",
    "    \n",
    "    return prob, prob_90\n"
   ]
  },
  {
   "cell_type": "code",
   "execution_count": null,
   "metadata": {
    "id": "jlq_qKIiJtZx"
   },
   "outputs": [],
   "source": [
    "# EJERCICIO 5.24 COOPERAR VS COMPETIR\n",
    "\n",
    "def crear_album_cinco(figus_total):\n",
    "    '''     \n",
    "    Creo el album de figuritas para los cinco amigos\n",
    "    Crea un np array del tamaño del album lleno de ceros \n",
    "    '''\n",
    "    album_de_1 = [0 for i in range(figus_total)]\n",
    "    album = np.array(album_de_1)\n",
    "    \n",
    "    return album\n",
    "\n",
    "def album_incompleto_cinco(A): \n",
    "    '''\n",
    "     Mira si el album está incompleto.\n",
    "     Si todos los números no son mayores o iguales que 5, dará True\n",
    "     '''\n",
    "    esta_incompleto = False\n",
    "    five_up = (A[A>=5])\n",
    "    #print(len(A))\n",
    "    #print(len(five_up))\n",
    "    if not (len(five_up) == len(A)):     \n",
    "        esta_incompleto = True\n",
    "      \n",
    "    return esta_incompleto\n",
    "\n",
    "\n",
    "def cooperacion_cinco(figus_total, figus_paquete):\n",
    "    '''\n",
    "    Dado el tamaño del álbum (figus_total), genere un álbum nuevo, simule su \n",
    "    llenado y devuelva la cantidad de PAQUETES de figuritas que se debieron \n",
    "    comprar para completarlo.\n",
    "    AHORA SON CINCO ALBUMES, PORQUE LOS 5 AMIGOS COOPERAN ENTRE SÍ\n",
    "    '''\n",
    "    compras = 0\n",
    "    album = crear_album_cinco(figus_total)\n",
    "    \n",
    "    while album_incompleto_cinco(album) == True:\n",
    "        paquete_comprado = comprar_paquete(figus_total, figus_paquete)\n",
    "        compras += 1\n",
    "        for figu in paquete_comprado:\n",
    "            album[figu -1] += 1    \n",
    "     \n",
    "    return compras   \n",
    "\n",
    "def experimento_cinco(n_repeticiones, figus_total, figus_paquete):\n",
    "    '''\n",
    "    RESULTADO OBTENIDO\n",
    "    En el caso en que cinco amigos cooperen para llenar el album de 670 figus:\n",
    "    Haciendo 100 repeticiones, para llenar un album de 670 figus, \n",
    "    hay que comprar un promedio de 403 de paquetes de figuritas X PERSONA\n",
    "       \n",
    "    '''\n",
    "    paquetes = [cooperacion_cinco(figus_total, figus_paquete) for i in range(n_repeticiones)] \n",
    "    compras = np.array(paquetes)\n",
    "    promedio_compras_persona = np.mean(compras)/5\n",
    "    \n",
    "    return promedio_compras_persona\n",
    "\n"
   ]
  },
  {
   "cell_type": "code",
   "execution_count": null,
   "metadata": {
    "id": "aPbFF2VBJzgP"
   },
   "outputs": [],
   "source": [
    "if __name__ == \"__main__\": \n",
    "    \n",
    "    n_repeticiones = 1000\n",
    "    figus_total = 670\n",
    "    figus_paquete = 5\n",
    "    paq_lim = 850\n",
    "    \n",
    "    promedio_cooperacion = experimento_cinco(n_repeticiones, figus_total, figus_paquete)\n",
    "    print(f'En el caso en que cinco amigos cooperen para llenar el album de 670 figus:')\n",
    "    print(f'Haciendo {n_repeticiones} repeticiones, para llenar un album de {figus_total} figus, ')\n",
    "    print(f'hay que comprar un promedio de {round(promedio_cooperacion)} de paquetes de figuritas X PERSONA')\n",
    "    \n",
    "    \n",
    "    promedio = experimento_figus_670(n_repeticiones, figus_total, figus_paquete)  \n",
    "    prob_llenar_850 = prob_completar_album(n_repeticiones, figus_total, figus_paquete, paq_lim)[0]\n",
    "    plotear_paquetes_para_completar_album(n_repeticiones)\n",
    "    graficar_historia(figus_total, figus_paquete)\n",
    "    \n",
    "    print(f'Haciendo {n_repeticiones} repeticiones, para llenar un album de {figus_total} figus, ')\n",
    "    print(f'hay que comprar un promedio de {round(promedio)} de paquetes de figuritas')\n",
    "    print(f'La probabilidad de completar el album comprando hasta {paq_lim} paquetes de figus es de {round(100 * prob_llenar_850,2)}%')\n",
    "\n",
    "    # EJERCICIO 5.22 ESTIMAR CUÁNTOS PAQUETES PARA TENER 90% DE PROBABILIDAD DE LLENAR EL ÁLBUM\n",
    "    # Para tener 90% probabilidad de llenar el álbum hay que comprar 1164 paquetes\n",
    "    prob_90 = prob_completar_album(n_repeticiones, figus_total, figus_paquete, paq_lim)[1]\n",
    "    print(f'Para tener 90% probabilidad de llenar el álbum hay que comprar {round(prob_90)} paquetes')\n",
    "        \n",
    "    # EJERCICIO 5.23 SIN FIGUS REPETIDAS EN LOS PAQUETES\n",
    "    # LAS PROBABILIDADES NO MEJORAN SIGNIFICATIVAMENTE\n",
    "    ''' \n",
    "    Haciendo 100 repeticiones, para llenar un album de 670 figus SIN REPES,\n",
    "    hay que comprar un promedio de 980 de paquetes de figuritas\n",
    "    La probabilidad de completar el album comprando hasta 850 paquetes de figus SIN REPES es de 29.0%\n",
    "    '''\n",
    "    \n",
    "    promedio_sin_repes = experimento_figus_sin_repes(n_repeticiones, figus_total, figus_paquete)\n",
    "    prob_llenar_850_sin_rep = prob_completar_album_sin_rep(n_repeticiones, figus_total, figus_paquete, paq_lim)[0]\n",
    "    \n",
    "    print(f'Haciendo {n_repeticiones} repeticiones, para llenar un album de {figus_total} figus SIN REPES,')\n",
    "    print(f'hay que comprar un promedio de {round(promedio_sin_repes)} de paquetes de figuritas')\n",
    "    print(f'La probabilidad de completar el album comprando hasta {paq_lim} paquetes de figus SIN REPES es de {round(100 * prob_llenar_850_sin_rep,2)}%')\n",
    "    "
   ]
  }
 ],
 "metadata": {
  "accelerator": "GPU",
  "colab": {
   "private_outputs": true,
   "provenance": []
  },
  "gpuClass": "standard",
  "kernelspec": {
   "display_name": "Python 3 (ipykernel)",
   "language": "python",
   "name": "python3"
  },
  "language_info": {
   "codemirror_mode": {
    "name": "ipython",
    "version": 3
   },
   "file_extension": ".py",
   "mimetype": "text/x-python",
   "name": "python",
   "nbconvert_exporter": "python",
   "pygments_lexer": "ipython3",
   "version": "3.9.7"
  }
 },
 "nbformat": 4,
 "nbformat_minor": 1
}
