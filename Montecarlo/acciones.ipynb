{
 "cells": [
  {
   "cell_type": "code",
   "execution_count": 13,
   "id": "fc0a832c",
   "metadata": {},
   "outputs": [
    {
     "data": {
      "text/plain": [
       "Date\n",
       "2018-01-02    59.450500\n",
       "2018-01-03    60.209999\n",
       "2018-01-04    60.479500\n",
       "2018-01-05    61.457001\n",
       "2018-01-08    62.343498\n",
       "Name: Adj Close, dtype: float64"
      ]
     },
     "execution_count": 13,
     "metadata": {},
     "output_type": "execute_result"
    }
   ],
   "source": [
    "# Basado en el sgte post\n",
    "# https://gsnchez.com/blog/article/El-metodo-de-monte-carlo\n",
    "\n",
    "import numpy as np\n",
    "import pandas as pd\n",
    "from pandas_datareader import data as wb\n",
    "import matplotlib.pyplot as plt\n",
    "from scipy.stats import norm\n",
    "import seaborn as sns\n",
    "from matplotlib import style\n",
    "\n",
    "style.use('seaborn')\n",
    "\n",
    "ticker = 'AMZN'\n",
    "data = wb.DataReader(ticker, data_source='yahoo', start='2018-1-1')['Adj Close']\n",
    "data.head()"
   ]
  },
  {
   "cell_type": "code",
   "execution_count": 4,
   "id": "45ddb3d3",
   "metadata": {},
   "outputs": [],
   "source": [
    "log_returns = np.log(1+data.pct_change())\n",
    "\n",
    "u = log_returns.mean()\n",
    "var = log_returns.var()\n",
    "drift = u - (0.5*var)\n",
    "stdev = log_returns.std()\n",
    "days = 100\n",
    "trials = 10000"
   ]
  },
  {
   "cell_type": "code",
   "execution_count": 10,
   "id": "2cb5013f",
   "metadata": {},
   "outputs": [],
   "source": [
    "Z = norm.ppf(np.random.rand(days, trials))\n",
    "retornos_diarios = np.exp(drift + stdev * Z)\n",
    "camino_de_precios = np.zeros_like(retornos_diarios)\n",
    "camino_de_precios[0] = data.iloc[-1]\n",
    "\n",
    "for t in range(1, days):\n",
    "    camino_de_precios[t] = camino_de_precios[t-1]*retornos_diarios[t]"
   ]
  },
  {
   "cell_type": "code",
   "execution_count": null,
   "id": "f64a2646",
   "metadata": {},
   "outputs": [],
   "source": []
  }
 ],
 "metadata": {
  "kernelspec": {
   "display_name": "Python 3 (ipykernel)",
   "language": "python",
   "name": "python3"
  },
  "language_info": {
   "codemirror_mode": {
    "name": "ipython",
    "version": 3
   },
   "file_extension": ".py",
   "mimetype": "text/x-python",
   "name": "python",
   "nbconvert_exporter": "python",
   "pygments_lexer": "ipython3",
   "version": "3.9.7"
  }
 },
 "nbformat": 4,
 "nbformat_minor": 5
}
