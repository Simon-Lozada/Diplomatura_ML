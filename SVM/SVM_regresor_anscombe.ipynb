{
  "nbformat": 4,
  "nbformat_minor": 0,
  "metadata": {
    "colab": {
      "provenance": []
    },
    "kernelspec": {
      "name": "python3",
      "display_name": "Python 3"
    },
    "language_info": {
      "name": "python"
    }
  },
  "cells": [
    {
      "cell_type": "code",
      "execution_count": 119,
      "metadata": {
        "id": "Shv-B3P4Y-PR"
      },
      "outputs": [],
      "source": [
        "'''\n",
        "Uso de Máquina de Soporte Vectorial como Regresor.\n",
        "\n",
        "DOCUMENTACIÓN OFICIAL SKLEARN\n",
        "https://scikit-learn.org/stable/modules/svm.html#svm\n",
        "https://scikit-learn.org/stable/modules/svm.html#svm-regression\n",
        "\n",
        "'''\n",
        "\n",
        "# cargamos las librerías que usaremos\n",
        "import numpy as np\n",
        "import pandas as pd\n",
        "import matplotlib.pyplot as plt\n",
        "import seaborn as sns\n",
        "import warnings\n",
        "from sklearn.svm import SVR\n",
        "from sklearn.preprocessing import StandardScaler\n",
        "                                \n",
        "##############################################################################\n",
        "# class sklearn.svm.SVR(*, kernel='rbf', degree=3, gamma='scale', coef0=0.0, \n",
        "#                       tol=0.001, C=1.0, epsilon=0.1, shrinking=True, \n",
        "#                       cache_size=200, verbose=False, max_iter=- 1)\n",
        "##############################################################################\n",
        "\n",
        "warnings.filterwarnings('ignore')\n"
      ]
    },
    {
      "cell_type": "code",
      "source": [
        "# cargamos los datos en un df, directamente desde Seaborn\n",
        "# nos interesa ver si podemos encontrar relaciones entre algunas variables continuas\n",
        "\n",
        "data = sns.load_dataset('anscombe')"
      ],
      "metadata": {
        "id": "d6kcbLm5ZGf9"
      },
      "execution_count": 78,
      "outputs": []
    },
    {
      "cell_type": "code",
      "source": [
        "print(data.shape)\n",
        "print(data.head(10))\n",
        "print(data.columns)\n",
        "print(data.tail())"
      ],
      "metadata": {
        "colab": {
          "base_uri": "https://localhost:8080/"
        },
        "id": "Gmtb4WmfZLQ3",
        "outputId": "54ad6edd-54b5-43a3-e43c-f5c9d4e95d94"
      },
      "execution_count": 120,
      "outputs": [
        {
          "output_type": "stream",
          "name": "stdout",
          "text": [
            "(44, 3)\n",
            "  dataset     x      y\n",
            "0       I  10.0   8.04\n",
            "1       I   8.0   6.95\n",
            "2       I  13.0   7.58\n",
            "3       I   9.0   8.81\n",
            "4       I  11.0   8.33\n",
            "5       I  14.0   9.96\n",
            "6       I   6.0   7.24\n",
            "7       I   4.0   4.26\n",
            "8       I  12.0  10.84\n",
            "9       I   7.0   4.82\n",
            "Index(['dataset', 'x', 'y'], dtype='object')\n",
            "   dataset     x      y\n",
            "39      IV   8.0   5.25\n",
            "40      IV  19.0  12.50\n",
            "41      IV   8.0   5.56\n",
            "42      IV   8.0   7.91\n",
            "43      IV   8.0   6.89\n"
          ]
        }
      ]
    },
    {
      "cell_type": "code",
      "source": [
        "data.info()"
      ],
      "metadata": {
        "colab": {
          "base_uri": "https://localhost:8080/"
        },
        "id": "Z5Ilx93cZOi4",
        "outputId": "1feaa148-655e-477e-c4dc-dd468854ae29"
      },
      "execution_count": 4,
      "outputs": [
        {
          "output_type": "stream",
          "name": "stdout",
          "text": [
            "<class 'pandas.core.frame.DataFrame'>\n",
            "RangeIndex: 44 entries, 0 to 43\n",
            "Data columns (total 3 columns):\n",
            " #   Column   Non-Null Count  Dtype  \n",
            "---  ------   --------------  -----  \n",
            " 0   dataset  44 non-null     object \n",
            " 1   x        44 non-null     float64\n",
            " 2   y        44 non-null     float64\n",
            "dtypes: float64(2), object(1)\n",
            "memory usage: 1.2+ KB\n"
          ]
        }
      ]
    },
    {
      "cell_type": "code",
      "source": [
        "# Show the results of a linear regression within each dataset\n",
        "sns.lmplot(\n",
        "    data=data, x=\"x\", y=\"y\", col=\"dataset\", hue=\"dataset\",\n",
        "    col_wrap=2, palette=\"muted\", ci=None,\n",
        "    height=4, scatter_kws={\"s\": 50, \"alpha\": 1}\n",
        ")"
      ],
      "metadata": {
        "colab": {
          "base_uri": "https://localhost:8080/",
          "height": 603
        },
        "id": "yZaOBnAqZVUc",
        "outputId": "8b0134c8-695e-4eec-89cc-55ae74e6d508"
      },
      "execution_count": 122,
      "outputs": [
        {
          "output_type": "execute_result",
          "data": {
            "text/plain": [
              "<seaborn.axisgrid.FacetGrid at 0x7f54fc674160>"
            ]
          },
          "metadata": {},
          "execution_count": 122
        },
        {
          "output_type": "display_data",
          "data": {
            "text/plain": [
              "<Figure size 576x576 with 4 Axes>"
            ],
            "image/png": "[encoded data removed]"
          },
          "metadata": {
            "needs_background": "light"
          }
        }
      ]
    },
    {
      "cell_type": "code",
      "source": [
        "# separamos el dataset II\n",
        "data2=data[data['dataset']=='II']\n",
        "data2"
      ],
      "metadata": {
        "colab": {
          "base_uri": "https://localhost:8080/",
          "height": 394
        },
        "id": "ofOAsxn0ZaPg",
        "outputId": "b228d25d-3585-4a96-cc72-c5b7a787686b"
      },
      "execution_count": 121,
      "outputs": [
        {
          "output_type": "execute_result",
          "data": {
            "text/plain": [
              "   dataset     x     y\n",
              "11      II  10.0  9.14\n",
              "12      II   8.0  8.14\n",
              "13      II  13.0  8.74\n",
              "14      II   9.0  8.77\n",
              "15      II  11.0  9.26\n",
              "16      II  14.0  8.10\n",
              "17      II   6.0  6.13\n",
              "18      II   4.0  3.10\n",
              "19      II  12.0  9.13\n",
              "20      II   7.0  7.26\n",
              "21      II   5.0  4.74"
            ],
            "text/html": [
              "\n",
              "  <div id=\"df-c1f34d6e-a411-4e00-9237-990e74b7b610\">\n",
              "    <div class=\"colab-df-container\">\n",
              "      <div>\n",
              "<style scoped>\n",
              "    .dataframe tbody tr th:only-of-type {\n",
              "        vertical-align: middle;\n",
              "    }\n",
              "\n",
              "    .dataframe tbody tr th {\n",
              "        vertical-align: top;\n",
              "    }\n",
              "\n",
              "    .dataframe thead th {\n",
              "        text-align: right;\n",
              "    }\n",
              "</style>\n",
              "<table border=\"1\" class=\"dataframe\">\n",
              "  <thead>\n",
              "    <tr style=\"text-align: right;\">\n",
              "      <th></th>\n",
              "      <th>dataset</th>\n",
              "      <th>x</th>\n",
              "      <th>y</th>\n",
              "    </tr>\n",
              "  </thead>\n",
              "  <tbody>\n",
              "    <tr>\n",
              "      <th>11</th>\n",
              "      <td>II</td>\n",
              "      <td>10.0</td>\n",
              "      <td>9.14</td>\n",
              "    </tr>\n",
              "    <tr>\n",
              "      <th>12</th>\n",
              "      <td>II</td>\n",
              "      <td>8.0</td>\n",
              "      <td>8.14</td>\n",
              "    </tr>\n",
              "    <tr>\n",
              "      <th>13</th>\n",
              "      <td>II</td>\n",
              "      <td>13.0</td>\n",
              "      <td>8.74</td>\n",
              "    </tr>\n",
              "    <tr>\n",
              "      <th>14</th>\n",
              "      <td>II</td>\n",
              "      <td>9.0</td>\n",
              "      <td>8.77</td>\n",
              "    </tr>\n",
              "    <tr>\n",
              "      <th>15</th>\n",
              "      <td>II</td>\n",
              "      <td>11.0</td>\n",
              "      <td>9.26</td>\n",
              "    </tr>\n",
              "    <tr>\n",
              "      <th>16</th>\n",
              "      <td>II</td>\n",
              "      <td>14.0</td>\n",
              "      <td>8.10</td>\n",
              "    </tr>\n",
              "    <tr>\n",
              "      <th>17</th>\n",
              "      <td>II</td>\n",
              "      <td>6.0</td>\n",
              "      <td>6.13</td>\n",
              "    </tr>\n",
              "    <tr>\n",
              "      <th>18</th>\n",
              "      <td>II</td>\n",
              "      <td>4.0</td>\n",
              "      <td>3.10</td>\n",
              "    </tr>\n",
              "    <tr>\n",
              "      <th>19</th>\n",
              "      <td>II</td>\n",
              "      <td>12.0</td>\n",
              "      <td>9.13</td>\n",
              "    </tr>\n",
              "    <tr>\n",
              "      <th>20</th>\n",
              "      <td>II</td>\n",
              "      <td>7.0</td>\n",
              "      <td>7.26</td>\n",
              "    </tr>\n",
              "    <tr>\n",
              "      <th>21</th>\n",
              "      <td>II</td>\n",
              "      <td>5.0</td>\n",
              "      <td>4.74</td>\n",
              "    </tr>\n",
              "  </tbody>\n",
              "</table>\n",
              "</div>\n",
              "      <button class=\"colab-df-convert\" onclick=\"convertToInteractive('df-c1f34d6e-a411-4e00-9237-990e74b7b610')\"\n",
              "              title=\"Convert this dataframe to an interactive table.\"\n",
              "              style=\"display:none;\">\n",
              "        \n",
              "  <svg xmlns=\"http://www.w3.org/2000/svg\" height=\"24px\"viewBox=\"0 0 24 24\"\n",
              "       width=\"24px\">\n",
              "    <path d=\"M0 0h24v24H0V0z\" fill=\"none\"/>\n",
              "    <path d=\"M18.56 5.44l.94 2.06.94-2.06 2.06-.94-2.06-.94-.94-2.06-.94 2.06-2.06.94zm-11 1L8.5 8.5l.94-2.06 2.06-.94-2.06-.94L8.5 2.5l-.94 2.06-2.06.94zm10 10l.94 2.06.94-2.06 2.06-.94-2.06-.94-.94-2.06-.94 2.06-2.06.94z\"/><path d=\"M17.41 7.96l-1.37-1.37c-.4-.4-.92-.59-1.43-.59-.52 0-1.04.2-1.43.59L10.3 9.45l-7.72 7.72c-.78.78-.78 2.05 0 2.83L4 21.41c.39.39.9.59 1.41.59.51 0 1.02-.2 1.41-.59l7.78-7.78 2.81-2.81c.8-.78.8-2.07 0-2.86zM5.41 20L4 18.59l7.72-7.72 1.47 1.35L5.41 20z\"/>\n",
              "  </svg>\n",
              "      </button>\n",
              "      \n",
              "  <style>\n",
              "    .colab-df-container {\n",
              "      display:flex;\n",
              "      flex-wrap:wrap;\n",
              "      gap: 12px;\n",
              "    }\n",
              "\n",
              "    .colab-df-convert {\n",
              "      background-color: #E8F0FE;\n",
              "      border: none;\n",
              "      border-radius: 50%;\n",
              "      cursor: pointer;\n",
              "      display: none;\n",
              "      fill: #1967D2;\n",
              "      height: 32px;\n",
              "      padding: 0 0 0 0;\n",
              "      width: 32px;\n",
              "    }\n",
              "\n",
              "    .colab-df-convert:hover {\n",
              "      background-color: #E2EBFA;\n",
              "      box-shadow: 0px 1px 2px rgba(60, 64, 67, 0.3), 0px 1px 3px 1px rgba(60, 64, 67, 0.15);\n",
              "      fill: #174EA6;\n",
              "    }\n",
              "\n",
              "    [theme=dark] .colab-df-convert {\n",
              "      background-color: #3B4455;\n",
              "      fill: #D2E3FC;\n",
              "    }\n",
              "\n",
              "    [theme=dark] .colab-df-convert:hover {\n",
              "      background-color: #434B5C;\n",
              "      box-shadow: 0px 1px 3px 1px rgba(0, 0, 0, 0.15);\n",
              "      filter: drop-shadow(0px 1px 2px rgba(0, 0, 0, 0.3));\n",
              "      fill: #FFFFFF;\n",
              "    }\n",
              "  </style>\n",
              "\n",
              "      <script>\n",
              "        const buttonEl =\n",
              "          document.querySelector('#df-c1f34d6e-a411-4e00-9237-990e74b7b610 button.colab-df-convert');\n",
              "        buttonEl.style.display =\n",
              "          google.colab.kernel.accessAllowed ? 'block' : 'none';\n",
              "\n",
              "        async function convertToInteractive(key) {\n",
              "          const element = document.querySelector('#df-c1f34d6e-a411-4e00-9237-990e74b7b610');\n",
              "          const dataTable =\n",
              "            await google.colab.kernel.invokeFunction('convertToInteractive',\n",
              "                                                     [key], {});\n",
              "          if (!dataTable) return;\n",
              "\n",
              "          const docLinkHtml = 'Like what you see? Visit the ' +\n",
              "            '<a target=\"_blank\" href=https://colab.research.google.com/notebooks/data_table.ipynb>data table notebook</a>'\n",
              "            + ' to learn more about interactive tables.';\n",
              "          element.innerHTML = '';\n",
              "          dataTable['output_type'] = 'display_data';\n",
              "          await google.colab.output.renderOutput(dataTable, element);\n",
              "          const docLink = document.createElement('div');\n",
              "          docLink.innerHTML = docLinkHtml;\n",
              "          element.appendChild(docLink);\n",
              "        }\n",
              "      </script>\n",
              "    </div>\n",
              "  </div>\n",
              "  "
            ]
          },
          "metadata": {},
          "execution_count": 121
        }
      ]
    },
    {
      "cell_type": "code",
      "source": [
        "# graficaremos los valores del dataset\n",
        "\n",
        "fig=plt.figure(figsize=(8,6))\n",
        "plt.scatter(data2['x'],data2['y'],color=\"magenta\", alpha=0.5)\n",
        "plt.title(\"x vs y\",fontsize=14,fontweight=\"bold\")\n",
        "plt.xlabel(\"x\")\n",
        "plt.ylabel(\"y\")\n",
        "plt.show()\n",
        "plt.close()\n"
      ],
      "metadata": {
        "colab": {
          "base_uri": "https://localhost:8080/",
          "height": 405
        },
        "id": "K__tuG0bZd3N",
        "outputId": "805fcca2-962d-4d6f-dcc2-fbf79ef39d13"
      },
      "execution_count": 123,
      "outputs": [
        {
          "output_type": "display_data",
          "data": {
            "text/plain": [
              "<Figure size 576x432 with 1 Axes>"
            ],
            "image/png": "[encoded data removed]"
          },
          "metadata": {
            "needs_background": "light"
          }
        }
      ]
    },
    {
      "cell_type": "code",
      "source": [
        "# Definimos las variables predictoras e independiente\n",
        "y=data2.pop('y')\n",
        "y"
      ],
      "metadata": {
        "colab": {
          "base_uri": "https://localhost:8080/"
        },
        "id": "79wbVvQ9ZgQb",
        "outputId": "772c74b5-07c5-4099-b138-8dff47abed0f"
      },
      "execution_count": 81,
      "outputs": [
        {
          "output_type": "execute_result",
          "data": {
            "text/plain": [
              "11    9.14\n",
              "12    8.14\n",
              "13    8.74\n",
              "14    8.77\n",
              "15    9.26\n",
              "16    8.10\n",
              "17    6.13\n",
              "18    3.10\n",
              "19    9.13\n",
              "20    7.26\n",
              "21    4.74\n",
              "Name: y, dtype: float64"
            ]
          },
          "metadata": {},
          "execution_count": 81
        }
      ]
    },
    {
      "cell_type": "code",
      "source": [
        "# estadarizamos caacterísticas\n",
        "x_train=data2['x'].to_frame()\n",
        "sc_x = StandardScaler()\n",
        "sc_y = StandardScaler()\n",
        "x = sc_x.fit_transform(x_train)\n",
        "y = sc_y.fit_transform(y.reshape(-1, 1))\n",
        "print(x.shape)\n",
        "print(y.shape)\n",
        "x"
      ],
      "metadata": {
        "colab": {
          "base_uri": "https://localhost:8080/"
        },
        "id": "X92EqqnS19Nc",
        "outputId": "9c17a5d9-0156-4575-a9eb-83ee7990e45a"
      },
      "execution_count": 126,
      "outputs": [
        {
          "output_type": "stream",
          "name": "stdout",
          "text": [
            "(11, 1)\n",
            "(11, 1)\n"
          ]
        },
        {
          "output_type": "execute_result",
          "data": {
            "text/plain": [
              "array([[ 0.31622777],\n",
              "       [-0.31622777],\n",
              "       [ 1.26491106],\n",
              "       [ 0.        ],\n",
              "       [ 0.63245553],\n",
              "       [ 1.58113883],\n",
              "       [-0.9486833 ],\n",
              "       [-1.58113883],\n",
              "       [ 0.9486833 ],\n",
              "       [-0.63245553],\n",
              "       [-1.26491106]])"
            ]
          },
          "metadata": {},
          "execution_count": 126
        }
      ]
    },
    {
      "cell_type": "code",
      "source": [
        "# Ahora ponemos a trabajar a la maquinita...\n",
        "# pedimos que calcule el score (qué tan cerca está la predicción de los datos)\n",
        "# comparamos la predicción con los datos y graficamos\n",
        "# instanciamos modelo LINEAL\n",
        "\n",
        "sv = SVR(kernel= 'linear')\n",
        "\n",
        "# entrenamos...\n",
        "sv.fit(x, y)\n",
        "\n",
        "'''\n",
        "class sklearn.svm.SVR(*, kernel='rbf', degree=3, gamma='scale', coef0=0.0, tol=0.001, \n",
        "C=1.0, epsilon=0.1, shrinking=True, cache_size=200, verbose=False, max_iter=-1)\n",
        "class sklearn.svm.linearSVR(*, epsilon=0.0, tol=0.0001, C=1.0, loss='epsilon_insensitive', \n",
        "fit_intercept=True, intercept_scaling=1.0, dual=True, verbose=0, random_state=None, max_iter=1000)\n",
        "'''"
      ],
      "metadata": {
        "colab": {
          "base_uri": "https://localhost:8080/",
          "height": 72
        },
        "id": "UoLc17v7ZsQK",
        "outputId": "b78f2c35-9f1f-43f5-c8f6-993f0289fb7a"
      },
      "execution_count": 127,
      "outputs": [
        {
          "output_type": "execute_result",
          "data": {
            "text/plain": [
              "\"\\nclass sklearn.svm.SVR(*, kernel='rbf', degree=3, gamma='scale', coef0=0.0, tol=0.001, \\nC=1.0, epsilon=0.1, shrinking=True, cache_size=200, verbose=False, max_iter=-1)\\nclass sklearn.svm.linearSVR(*, epsilon=0.0, tol=0.0001, C=1.0, loss='epsilon_insensitive', \\nfit_intercept=True, intercept_scaling=1.0, dual=True, verbose=0, random_state=None, max_iter=1000)\\n\""
            ],
            "application/vnd.google.colaboratory.intrinsic+json": {
              "type": "string"
            }
          },
          "metadata": {},
          "execution_count": 127
        }
      ]
    },
    {
      "cell_type": "code",
      "source": [
        "# VAMOS A PEDIR UNA PREDICCIÓN Y GRAFICARLA CON OTRO COLOR sobre X_test\n",
        "x_otro=pd.DataFrame([[4.5],[6.5],[8.5],[10.5],[12.5]])\n",
        "xt = sc_x.transform(x_otro)\n",
        "y_pred=sv.predict(xt).reshape(-1,1)\n",
        "#y_pred = sc_y.inverse_transform(y_pred.reshape(-1, 1))\n",
        "print(xt)\n",
        "print(y_pred)"
      ],
      "metadata": {
        "colab": {
          "base_uri": "https://localhost:8080/"
        },
        "id": "PjjMIlOIfOp2",
        "outputId": "dadf86cc-f56d-4b00-de8f-ef29cc87c9a2"
      },
      "execution_count": 130,
      "outputs": [
        {
          "output_type": "stream",
          "name": "stdout",
          "text": [
            "[[-1.42302495]\n",
            " [-0.79056942]\n",
            " [-0.15811388]\n",
            " [ 0.47434165]\n",
            " [ 1.10679718]]\n",
            "[[-0.99488392]\n",
            " [-0.47865061]\n",
            " [ 0.0375827 ]\n",
            " [ 0.55381601]\n",
            " [ 1.07004931]]\n"
          ]
        }
      ]
    },
    {
      "cell_type": "code",
      "source": [
        "x_vect = np.arange(4., 15., 0.01) # es un vector numpy, NO pandas\n",
        "x_graf = x_vect.reshape((len(x_vect), 1)) # ahora es un dataframe de 1 col\n",
        "xg=sc_x.transform(x_graf)\n",
        "#x_graf = xg.reshape((len(x_vect), 1)) # ahora es un dataframe de 1 col\n",
        "# armamos gráfico\n",
        "plt.figure(dpi=150)   # abro figura\n",
        "plt.scatter(x, y, c = 'magenta')     # grafica los datos\n",
        "plt.plot(xg, sv.predict(xg), color = 'lime') # id predicción\n",
        "plt.scatter(xt, y_pred, color='orange', marker='*')\n",
        "plt.plot()\n",
        "plt.title(f'Regresión Máquina de Soporte Vectorial para Anscombe')\n",
        "plt.xlabel('x')\n",
        "plt.ylabel('y')\n",
        "#plt.savefig('anscombe.png', dpi = 300)  # guardo en archivo\n",
        "plt.show()  # muestro gráfico\n",
        "plt.close() # cierro figura\n"
      ],
      "metadata": {
        "colab": {
          "base_uri": "https://localhost:8080/",
          "height": 595
        },
        "id": "e1-xJ4MHZw3R",
        "outputId": "77ec15c8-f5a6-40ed-bc5a-7497793ad0ac"
      },
      "execution_count": 131,
      "outputs": [
        {
          "output_type": "display_data",
          "data": {
            "text/plain": [
              "<Figure size 900x600 with 1 Axes>"
            ],
            "image/png": "[encoded data removed]"
          },
          "metadata": {
            "needs_background": "light"
          }
        }
      ]
    },
    {
      "cell_type": "code",
      "source": [
        "# preguntamos qué tal predice sobre los datos ingresados\n",
        "print('\\n')\n",
        "print(f'Precisión: {sv.score(x, y)}')\n",
        "print('\\n')\n"
      ],
      "metadata": {
        "colab": {
          "base_uri": "https://localhost:8080/"
        },
        "id": "VVV7q_-ZZ4qn",
        "outputId": "b78c8336-3bda-4a17-fbb3-e844fbb72403"
      },
      "execution_count": 132,
      "outputs": [
        {
          "output_type": "stream",
          "name": "stdout",
          "text": [
            "\n",
            "\n",
            "Precisión: 0.6384728024535903\n",
            "\n",
            "\n"
          ]
        }
      ]
    },
    {
      "cell_type": "code",
      "source": [
        "# A eso se refiere con problema linealmente separable :)\n",
        "# probemos otro kernel\n",
        "sv1 = SVR(kernel= 'rbf', gamma=0.7)\n",
        "\n",
        "# entrenamos...\n",
        "sv1.fit(x, y)"
      ],
      "metadata": {
        "colab": {
          "base_uri": "https://localhost:8080/"
        },
        "id": "-LBT4UwCwF3V",
        "outputId": "bd1613f1-4325-4eb3-9fa6-c914fffff8ed"
      },
      "execution_count": 133,
      "outputs": [
        {
          "output_type": "execute_result",
          "data": {
            "text/plain": [
              "SVR(gamma=0.7)"
            ]
          },
          "metadata": {},
          "execution_count": 133
        }
      ]
    },
    {
      "cell_type": "code",
      "source": [
        "y_pred1=sv1.predict(xt).reshape(-1,1)\n",
        "\n",
        "print(y_pred1)"
      ],
      "metadata": {
        "colab": {
          "base_uri": "https://localhost:8080/"
        },
        "id": "hb7k4C7Pw971",
        "outputId": "d900fbc4-db79-43d0-8154-22d4f94a57a9"
      },
      "execution_count": 134,
      "outputs": [
        {
          "output_type": "stream",
          "name": "stdout",
          "text": [
            "[[-1.45717452]\n",
            " [-0.52899651]\n",
            " [ 0.4279529 ]\n",
            " [ 0.8007877 ]\n",
            " [ 0.67167241]]\n"
          ]
        }
      ]
    },
    {
      "cell_type": "code",
      "source": [
        "\n",
        "# armamos gráfico\n",
        "plt.figure(dpi=150)   # abro figura\n",
        "plt.scatter(x, y, c = 'magenta')     # grafica los datos\n",
        "plt.plot(xg, sv1.predict(xg), color = 'lime') # id predicción\n",
        "plt.scatter(xt, y_pred1, color='orange', marker='*')\n",
        "plt.plot()\n",
        "plt.title(f'Regresión Máquina de Soporte Vectorial Kernelizada para Anscombe')\n",
        "plt.xlabel('x')\n",
        "plt.ylabel('y')\n",
        "#plt.savefig('anscombe.png', dpi = 300)  # guardo en archivo\n",
        "plt.show()  # muestro gráfico\n",
        "plt.close() # cierro figura\n"
      ],
      "metadata": {
        "colab": {
          "base_uri": "https://localhost:8080/",
          "height": 595
        },
        "id": "VF4C1k6oxGEe",
        "outputId": "9e861058-b1aa-491b-fbf4-055c412d3fb6"
      },
      "execution_count": 135,
      "outputs": [
        {
          "output_type": "display_data",
          "data": {
            "text/plain": [
              "<Figure size 900x600 with 1 Axes>"
            ],
            "image/png": "[encoded data removed]"
          },
          "metadata": {
            "needs_background": "light"
          }
        }
      ]
    },
    {
      "cell_type": "code",
      "source": [
        "print(f'Precisión: {sv1.score(x, y)}')\n"
      ],
      "metadata": {
        "colab": {
          "base_uri": "https://localhost:8080/"
        },
        "id": "WuLutG64yXfI",
        "outputId": "a6cfcd7f-d4ce-4f16-d6f2-cca9c0c279f7"
      },
      "execution_count": 136,
      "outputs": [
        {
          "output_type": "stream",
          "name": "stdout",
          "text": [
            "Precisión: 0.9452602767211021\n"
          ]
        }
      ]
    }
  ]
}