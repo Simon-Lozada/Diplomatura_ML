{
 "cells": [
  {
   "cell_type": "code",
   "execution_count": 7,
   "metadata": {
    "id": "yd5mFHYVo0Ws"
   },
   "outputs": [],
   "source": [
    "# PESO ESPECÍFICO (Unidades de g/cm3)\n",
    "# barras de base 1 cm2 y largo 'l'\n",
    "# R peso específico -> hay que estimar\n",
    "# se pesan las barras con una balanza con errores (pequeños pero desconocidos)\n",
    "# barra largo 'm' -> volumen m cm3 y peso = R*m\n",
    "# Peso = R * m, Peso se mide con errores, m se concoe\n",
    "\n",
    "import requests\n",
    "import io\n",
    "import pandas as pd\n",
    "import numpy as np\n",
    "import matplotlib.pyplot as plt\n",
    "from sklearn import linear_model\n"
   ]
  },
  {
   "cell_type": "code",
   "execution_count": 8,
   "metadata": {
    "id": "_BGC4xx-pHTz"
   },
   "outputs": [],
   "source": [
    "def coef_corr(x, y):\n",
    "    '''Dados, dos np.arrays 'x' e 'y', calcula el coeficiente de correlación\n",
    "    para un ajuste lineal calculado por mínimos cuadrados. Es el coeficiente de\n",
    "    correlación de Pearson, que indica que tan buena es la relación lineal entre\n",
    "    dos variables, siendo 1 ó -1 correlación perfecta y 0 nula correlación'''\n",
    "    arriba = sum(((x - x.mean())*(y-y.mean()))) \n",
    "    abajo = sum(((x-x.mean())**2)) * sum(((y -y.mean())**2))\n",
    "    corr = arriba / np.sqrt(abajo)\n",
    "    \n",
    "    return corr\n",
    "  "
   ]
  },
  {
   "cell_type": "code",
   "execution_count": 9,
   "metadata": {
    "id": "1dHWIlAIpLth"
   },
   "outputs": [],
   "source": [
    "enlace = 'https://raw.githubusercontent.com/python-unsam/Programacion_en_Python_UNSAM/master/Notas/11_Recursion/longitudes_y_pesos.csv'\n",
    "r = requests.get(enlace).content\n",
    "data_lyp = pd.read_csv(io.StringIO(r.decode('utf-8')))\n",
    "data_lyp.columns = ['longitud', 'peso']  # pd.dataframe\n"
   ]
  },
  {
   "cell_type": "code",
   "execution_count": 10,
   "metadata": {
    "colab": {
     "base_uri": "https://localhost:8080/",
     "height": 424
    },
    "id": "PN1ziOnrhDwE",
    "outputId": "c01c1c8b-5857-475f-b594-b5d771e6e735"
   },
   "outputs": [
    {
     "data": {
      "text/html": [
       "\n",
       "  <div id=\"df-520c0df5-8778-434a-8867-8a0d7e25743a\">\n",
       "    <div class=\"colab-df-container\">\n",
       "      <div>\n",
       "<style scoped>\n",
       "    .dataframe tbody tr th:only-of-type {\n",
       "        vertical-align: middle;\n",
       "    }\n",
       "\n",
       "    .dataframe tbody tr th {\n",
       "        vertical-align: top;\n",
       "    }\n",
       "\n",
       "    .dataframe thead th {\n",
       "        text-align: right;\n",
       "    }\n",
       "</style>\n",
       "<table border=\"1\" class=\"dataframe\">\n",
       "  <thead>\n",
       "    <tr style=\"text-align: right;\">\n",
       "      <th></th>\n",
       "      <th>longitud</th>\n",
       "      <th>peso</th>\n",
       "    </tr>\n",
       "  </thead>\n",
       "  <tbody>\n",
       "    <tr>\n",
       "      <th>0</th>\n",
       "      <td>19.1</td>\n",
       "      <td>136.92</td>\n",
       "    </tr>\n",
       "    <tr>\n",
       "      <th>1</th>\n",
       "      <td>18.3</td>\n",
       "      <td>132.22</td>\n",
       "    </tr>\n",
       "    <tr>\n",
       "      <th>2</th>\n",
       "      <td>3.1</td>\n",
       "      <td>20.27</td>\n",
       "    </tr>\n",
       "    <tr>\n",
       "      <th>3</th>\n",
       "      <td>10.1</td>\n",
       "      <td>71.70</td>\n",
       "    </tr>\n",
       "    <tr>\n",
       "      <th>4</th>\n",
       "      <td>10.8</td>\n",
       "      <td>77.26</td>\n",
       "    </tr>\n",
       "    <tr>\n",
       "      <th>...</th>\n",
       "      <td>...</td>\n",
       "      <td>...</td>\n",
       "    </tr>\n",
       "    <tr>\n",
       "      <th>95</th>\n",
       "      <td>6.0</td>\n",
       "      <td>44.29</td>\n",
       "    </tr>\n",
       "    <tr>\n",
       "      <th>96</th>\n",
       "      <td>19.1</td>\n",
       "      <td>138.61</td>\n",
       "    </tr>\n",
       "    <tr>\n",
       "      <th>97</th>\n",
       "      <td>11.9</td>\n",
       "      <td>85.28</td>\n",
       "    </tr>\n",
       "    <tr>\n",
       "      <th>98</th>\n",
       "      <td>16.8</td>\n",
       "      <td>120.72</td>\n",
       "    </tr>\n",
       "    <tr>\n",
       "      <th>99</th>\n",
       "      <td>18.8</td>\n",
       "      <td>135.74</td>\n",
       "    </tr>\n",
       "  </tbody>\n",
       "</table>\n",
       "<p>100 rows × 2 columns</p>\n",
       "</div>\n",
       "      <button class=\"colab-df-convert\" onclick=\"convertToInteractive('df-520c0df5-8778-434a-8867-8a0d7e25743a')\"\n",
       "              title=\"Convert this dataframe to an interactive table.\"\n",
       "              style=\"display:none;\">\n",
       "        \n",
       "  <svg xmlns=\"http://www.w3.org/2000/svg\" height=\"24px\"viewBox=\"0 0 24 24\"\n",
       "       width=\"24px\">\n",
       "    <path d=\"M0 0h24v24H0V0z\" fill=\"none\"/>\n",
       "    <path d=\"M18.56 5.44l.94 2.06.94-2.06 2.06-.94-2.06-.94-.94-2.06-.94 2.06-2.06.94zm-11 1L8.5 8.5l.94-2.06 2.06-.94-2.06-.94L8.5 2.5l-.94 2.06-2.06.94zm10 10l.94 2.06.94-2.06 2.06-.94-2.06-.94-.94-2.06-.94 2.06-2.06.94z\"/><path d=\"M17.41 7.96l-1.37-1.37c-.4-.4-.92-.59-1.43-.59-.52 0-1.04.2-1.43.59L10.3 9.45l-7.72 7.72c-.78.78-.78 2.05 0 2.83L4 21.41c.39.39.9.59 1.41.59.51 0 1.02-.2 1.41-.59l7.78-7.78 2.81-2.81c.8-.78.8-2.07 0-2.86zM5.41 20L4 18.59l7.72-7.72 1.47 1.35L5.41 20z\"/>\n",
       "  </svg>\n",
       "      </button>\n",
       "      \n",
       "  <style>\n",
       "    .colab-df-container {\n",
       "      display:flex;\n",
       "      flex-wrap:wrap;\n",
       "      gap: 12px;\n",
       "    }\n",
       "\n",
       "    .colab-df-convert {\n",
       "      background-color: #E8F0FE;\n",
       "      border: none;\n",
       "      border-radius: 50%;\n",
       "      cursor: pointer;\n",
       "      display: none;\n",
       "      fill: #1967D2;\n",
       "      height: 32px;\n",
       "      padding: 0 0 0 0;\n",
       "      width: 32px;\n",
       "    }\n",
       "\n",
       "    .colab-df-convert:hover {\n",
       "      background-color: #E2EBFA;\n",
       "      box-shadow: 0px 1px 2px rgba(60, 64, 67, 0.3), 0px 1px 3px 1px rgba(60, 64, 67, 0.15);\n",
       "      fill: #174EA6;\n",
       "    }\n",
       "\n",
       "    [theme=dark] .colab-df-convert {\n",
       "      background-color: #3B4455;\n",
       "      fill: #D2E3FC;\n",
       "    }\n",
       "\n",
       "    [theme=dark] .colab-df-convert:hover {\n",
       "      background-color: #434B5C;\n",
       "      box-shadow: 0px 1px 3px 1px rgba(0, 0, 0, 0.15);\n",
       "      filter: drop-shadow(0px 1px 2px rgba(0, 0, 0, 0.3));\n",
       "      fill: #FFFFFF;\n",
       "    }\n",
       "  </style>\n",
       "\n",
       "      <script>\n",
       "        const buttonEl =\n",
       "          document.querySelector('#df-520c0df5-8778-434a-8867-8a0d7e25743a button.colab-df-convert');\n",
       "        buttonEl.style.display =\n",
       "          google.colab.kernel.accessAllowed ? 'block' : 'none';\n",
       "\n",
       "        async function convertToInteractive(key) {\n",
       "          const element = document.querySelector('#df-520c0df5-8778-434a-8867-8a0d7e25743a');\n",
       "          const dataTable =\n",
       "            await google.colab.kernel.invokeFunction('convertToInteractive',\n",
       "                                                     [key], {});\n",
       "          if (!dataTable) return;\n",
       "\n",
       "          const docLinkHtml = 'Like what you see? Visit the ' +\n",
       "            '<a target=\"_blank\" href=https://colab.research.google.com/notebooks/data_table.ipynb>data table notebook</a>'\n",
       "            + ' to learn more about interactive tables.';\n",
       "          element.innerHTML = '';\n",
       "          dataTable['output_type'] = 'display_data';\n",
       "          await google.colab.output.renderOutput(dataTable, element);\n",
       "          const docLink = document.createElement('div');\n",
       "          docLink.innerHTML = docLinkHtml;\n",
       "          element.appendChild(docLink);\n",
       "        }\n",
       "      </script>\n",
       "    </div>\n",
       "  </div>\n",
       "  "
      ],
      "text/plain": [
       "    longitud    peso\n",
       "0       19.1  136.92\n",
       "1       18.3  132.22\n",
       "2        3.1   20.27\n",
       "3       10.1   71.70\n",
       "4       10.8   77.26\n",
       "..       ...     ...\n",
       "95       6.0   44.29\n",
       "96      19.1  138.61\n",
       "97      11.9   85.28\n",
       "98      16.8  120.72\n",
       "99      18.8  135.74\n",
       "\n",
       "[100 rows x 2 columns]"
      ]
     },
     "execution_count": 10,
     "metadata": {},
     "output_type": "execute_result"
    }
   ],
   "source": [
    "data_lyp\n"
   ]
  },
  {
   "cell_type": "code",
   "execution_count": 11,
   "metadata": {
    "colab": {
     "base_uri": "https://localhost:8080/"
    },
    "id": "Z1Q92lM5pWEa",
    "outputId": "b6446629-c519-4d17-940a-84edce9dac2d"
   },
   "outputs": [
    {
     "data": {
      "text/plain": [
       "7.202372690217998"
      ]
     },
     "execution_count": 11,
     "metadata": {},
     "output_type": "execute_result"
    }
   ],
   "source": [
    "peso = data_lyp['peso']  # pd.serie\n",
    "longitud = data_lyp['longitud'] # pd.serie\n",
    "\n",
    "lyp = linear_model.LinearRegression(fit_intercept = False)   # no hay ordenada al origen\n",
    "# poniendo doble corchete se vuelve a 'ver' como pd.DataFrame\n",
    "lyp.fit(data_lyp[['longitud']], data_lyp['peso'])\n",
    "R = float(lyp.coef_ ) # R = 7.202372690217998\n",
    "R"
   ]
  },
  {
   "cell_type": "code",
   "execution_count": 13,
   "metadata": {
    "colab": {
     "base_uri": "https://localhost:8080/"
    },
    "id": "7Ms2USkAp1te",
    "outputId": "8e331d1b-cb35-4981-8a60-5f561d65bd7a"
   },
   "outputs": [
    {
     "data": {
      "text/plain": [
       "0.9291181822605168"
      ]
     },
     "execution_count": 13,
     "metadata": {},
     "output_type": "execute_result"
    }
   ],
   "source": [
    "errores = peso - (lyp.predict(data_lyp[['longitud']]))\n",
    "ecm = (errores**2).mean()  # ecm = 0.9291181822605168\n",
    "ecm"
   ]
  },
  {
   "cell_type": "code",
   "execution_count": 15,
   "metadata": {
    "colab": {
     "base_uri": "https://localhost:8080/"
    },
    "id": "zd-4gnd2iFUt",
    "outputId": "6060a5e0-7641-4eb8-a23b-fc9188d6fc83"
   },
   "outputs": [
    {
     "data": {
      "text/plain": [
       "0.9997948247765532"
      ]
     },
     "execution_count": 15,
     "metadata": {},
     "output_type": "execute_result"
    }
   ],
   "source": [
    "r2=coef_corr(longitud, peso)\n",
    "r2"
   ]
  },
  {
   "cell_type": "code",
   "execution_count": 16,
   "metadata": {
    "colab": {
     "base_uri": "https://localhost:8080/",
     "height": 487
    },
    "id": "uVd-hMy2p2ea",
    "outputId": "a4b5b2e9-08a3-48af-ccdc-8137b8780a67"
   },
   "outputs": [
    {
     "data": {
      "image/png": "[encoded data removed]",
      "text/plain": [
       "<Figure size 640x480 with 1 Axes>"
      ]
     },
     "metadata": {},
     "output_type": "display_data"
    }
   ],
   "source": [
    "minlong = 0.    # límite inf para ver el ajuste\n",
    "maxlong = 30.   # lím superior\n",
    "grilla_longitud = np.linspace(start = minlong, stop = maxlong, num = 1000)\n",
    "grilla_peso = grilla_longitud * R   # recta de ajuste x mínimos cuadrados\n",
    "    \n",
    "fig = plt.scatter(longitud, peso, c ='purple', marker = 'x') # x violetas\n",
    "  # acomoda los elementos del gráfico\n",
    "# Agrego la ecuación de la recta fiteada al título, valores redondeados con  \n",
    "# 3 decim como cifra significativa\n",
    "plt.title(f'Ajuste lineal: Peso vs. Longitud \\n '\n",
    "          f'Peso= {round(R, 3)} * Longitud \\n'\n",
    "          f'ECM = {round(ecm, 3)} | Coef de Correlación = '\n",
    "          f'{round(coef_corr(longitud, peso), 5)}')\n",
    "plt.plot(grilla_longitud, grilla_peso, c = 'magenta') # magenta p/ recta fitted\n",
    "plt.xlabel('Longitud')\n",
    "plt.ylabel('Peso')\n",
    "plt.tight_layout() \n",
    "plt.show()\n"
   ]
  }
 ],
 "metadata": {
  "colab": {
   "provenance": []
  },
  "kernelspec": {
   "display_name": "Python 3 (ipykernel)",
   "language": "python",
   "name": "python3"
  },
  "language_info": {
   "codemirror_mode": {
    "name": "ipython",
    "version": 3
   },
   "file_extension": ".py",
   "mimetype": "text/x-python",
   "name": "python",
   "nbconvert_exporter": "python",
   "pygments_lexer": "ipython3",
   "version": "3.9.13"
  }
 },
 "nbformat": 4,
 "nbformat_minor": 1
}
