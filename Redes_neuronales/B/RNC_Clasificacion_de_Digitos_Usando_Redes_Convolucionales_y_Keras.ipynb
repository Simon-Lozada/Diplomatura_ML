{
  "cells": [
    {
      "cell_type": "markdown",
      "metadata": {
        "id": "tS3n2VukhVZh"
      },
      "source": [
        "# Clasificación de dígitos usando Redes Convolucionales y Keras\n",
        "\n",
        "## 1 - El set de datos\n",
        "\n",
        "En este tutorial implementaremos una red convolucional capaz de clasificar los dígitos del 0 al 9. Para ello usaremos el set de datos [MNIST](http://yann.lecun.com/exdb/mnist/), que contiene un total de 70.000 imágenes escritas a mano por diferentes personas.\n",
        "\n",
        "![Algunos ejemplos de imágenes provenientes del set MNIST](https://github.com/codificandobits/Clasificacion_MNIST_RedesConvolucionales_Keras/blob/master/MNIST_ejemplo.png?raw=1)\n",
        "\n",
        "Al final de este tutorial tendremos claro:\n",
        "1. Cómo funciona [LeNet-5](http://yann.lecun.com/exdb/lenet/), la red convolucional usada en este tutorial\n",
        "2. Cómo implementar esta red convolucional usando la librería Keras\n",
        "3. Cómo evaluar el desempeño de la red\n",
        "\n",
        "En primer lugar, veamos cómo es LeNet-5."
      ]
    },
    {
      "cell_type": "markdown",
      "metadata": {
        "id": "kuomVlU4hVZm"
      },
      "source": [
        "## 2 - LeNet-5\n",
        "\n",
        "Esta red es la precursora de todas las redes convolucionales usadas en la actualidad. Fue diseñada por [Yann LeCun] a finales de los años 90, con el fin de clasificar dígitos (del 0 al 9) escritos a mano.\n",
        "\n",
        "Esta red tiene como entradas imágenes de 28x28x1: 28 filas, 28 columnas y 1 sólo plano de color, es decir imágenes en escala de gris.\n",
        "\n",
        "![LeNet-5](https://github.com/codificandobits/Clasificacion_MNIST_RedesConvolucionales_Keras/blob/master/LeNet5.png?raw=1)\n",
        "\n",
        "Como se observa en la figura de arriba, la red cuenta con dos bloques de procesamiento:\n",
        "- Las *capas convolucionales* que se encargan de extraer características de las imágenes\n",
        "- La *red neuronal*, que toma dichas características y permite clasificar la imagen en uno de los posibles 10 dígitos (del 0 al 9)\n",
        "\n",
        "Además, podemos observar las siguientes características:\n",
        "- Después de realizar convoluciones se usa siempre la función de activación *ReLU*\n",
        "- El *max-pooling* se realiza después de las convoluciones\n",
        "- Las *dimensiones espaciales* (número de filas y columnas) de las imágenes se reducen entre una capa y otra, mientras que la profundidad (correspondiente a las características extraídas) aumenta entre una capa y otra\n",
        "\n",
        "Las redes convolucionales usadas en la actualidad implementan una lógica similar a la de LeNet-5."
      ]
    },
    {
      "cell_type": "markdown",
      "metadata": {
        "id": "rXi3pLYkhVZo"
      },
      "source": [
        "## 3 - Implementación en Keras\n",
        "\n",
        "### 3.1 - Librerías requeridas\n",
        "\n",
        "En primer lugar se importa la librería Numpy y se ajusta la semilla del generador aleatorio para garantizar la reproducibilidad del entrenamiento. También importaremos la librería Matplotlib, para poder visualizar las imágenes del set de datos :"
      ]
    },
    {
      "cell_type": "code",
      "execution_count": 2,
      "metadata": {
        "collapsed": true,
        "id": "nd-zxE7_hVZp"
      },
      "outputs": [],
      "source": [
        "# https://github.com/codificandobits/Clasificacion_MNIST_RedesConvolucionales_Keras\n",
        "# https://www.codificandobits.com/blog/redes-convolucionales-introduccion/\n",
        "# https://www.codificandobits.com/blog/padding-strides-maxpooling-stacking-redes-convolucionales/\n",
        "# https://www.codificandobits.com/blog/convolucion-redes-convolucionales/\n",
        "\n",
        "\n",
        "import numpy as np\n",
        "np.random.seed(2)\n",
        "\n",
        "import matplotlib.pyplot as plt\n",
        "%matplotlib inline\n",
        "\n",
        "from sklearn.metrics import confusion_matrix\n",
        "from sklearn.metrics import ConfusionMatrixDisplay"
      ]
    },
    {
      "cell_type": "markdown",
      "metadata": {
        "id": "rElMJh82hVZs"
      },
      "source": [
        "A continuación importamos las funciones *Sequential*, *Conv2D*, *MaxPooling2D*, *Flatten*, *Dense* y *SGD* de Keras:"
      ]
    },
    {
      "cell_type": "code",
      "execution_count": 4,
      "metadata": {
        "id": "Ji87CMp0hVZt"
      },
      "outputs": [],
      "source": [
        "from keras.datasets import mnist\n",
        "from keras.utils import np_utils\n",
        "\n",
        "from keras.models import Sequential\n",
        "from keras.layers.convolutional import Conv2D, MaxPooling2D\n",
        "from keras.layers.core import Flatten, Dense\n",
        "from keras.optimizers import SGD\n"
      ]
    },
    {
      "cell_type": "markdown",
      "metadata": {
        "id": "pX3E30UchVZu"
      },
      "source": [
        "### 3.2 - Pre-procesamiento del set de datos\n",
        "\n",
        "La función *mnist* de Keras permite leer el set de datos y crear automáticamente los sets de entrenamiento y validación. El primero de ellos tendrá 60,000 imágenes (cada una de 28x28) con sus correspondientes categorías, mientras que el segundo tendrá 10,000 datos:"
      ]
    },
    {
      "cell_type": "code",
      "execution_count": 5,
      "metadata": {
        "colab": {
          "base_uri": "https://localhost:8080/"
        },
        "id": "C73usaqihVZv",
        "outputId": "9a4cf7a1-8755-4495-f0f3-ca0d241dc1b7"
      },
      "outputs": [
        {
          "output_type": "stream",
          "name": "stdout",
          "text": [
            "Downloading data from https://storage.googleapis.com/tensorflow/tf-keras-datasets/mnist.npz\n",
            "11490434/11490434 [==============================] - 0s 0us/step\n",
            "(60000, 28, 28)\n",
            "(60000,)\n",
            "(10000, 28, 28)\n",
            "(10000,)\n"
          ]
        }
      ],
      "source": [
        "(x_train, y_train), (x_test,y_test) = mnist.load_data()\n",
        "print(x_train.shape)\n",
        "print(y_train.shape)\n",
        "print(x_test.shape)\n",
        "print(y_test.shape)"
      ]
    },
    {
      "cell_type": "markdown",
      "metadata": {
        "id": "fo5LzKAbhVZw"
      },
      "source": [
        "Los pixeles en las imágenes (tanto de entrenamiento como de validación) tienen valores entre 0 y 255; sin embargo, para garantizar la convergencia del entrenamiento es necesario normalizar estos valores entre 0 y 1:"
      ]
    },
    {
      "cell_type": "code",
      "execution_count": 6,
      "metadata": {
        "collapsed": true,
        "id": "9P4P7ZzIhVZw"
      },
      "outputs": [],
      "source": [
        "x_train = x_train/255.0\n",
        "x_test = x_test/255.0"
      ]
    },
    {
      "cell_type": "markdown",
      "metadata": {
        "id": "FjIGoSXIhVZx"
      },
      "source": [
        "También se deben codificar *y_train* y *y_test* en el formato *one-hot*:"
      ]
    },
    {
      "cell_type": "code",
      "execution_count": 7,
      "metadata": {
        "collapsed": true,
        "id": "TaFHzSjShVZx",
        "colab": {
          "base_uri": "https://localhost:8080/"
        },
        "outputId": "b31a91d5-fb6e-4799-cd3a-e4655f6c15eb"
      },
      "outputs": [
        {
          "output_type": "stream",
          "name": "stdout",
          "text": [
            "(10000,)\n",
            "(10000, 10)\n"
          ]
        }
      ],
      "source": [
        "nclases = 10\n",
        "y_train_cat = np_utils.to_categorical(y_train,nclases)\n",
        "y_test_cat = np_utils.to_categorical(y_test,nclases)\n",
        "print(y_test.shape)\n",
        "print(y_test_cat.shape)"
      ]
    },
    {
      "cell_type": "markdown",
      "metadata": {
        "id": "44gNd1U5hVZy"
      },
      "source": [
        "Finalmente, podemos visualizar un ejemplo de imagen dentro del dataset:"
      ]
    },
    {
      "cell_type": "code",
      "execution_count": 21,
      "metadata": {
        "colab": {
          "base_uri": "https://localhost:8080/",
          "height": 447
        },
        "id": "3PIt4hiyhVZy",
        "outputId": "efd17220-4dbe-4c5a-8872-a6954b08fb0b"
      },
      "outputs": [
        {
          "output_type": "execute_result",
          "data": {
            "text/plain": [
              "(-0.5, 27.5, 27.5, -0.5)"
            ]
          },
          "metadata": {},
          "execution_count": 21
        },
        {
          "output_type": "display_data",
          "data": {
            "text/plain": [
              "<Figure size 640x480 with 1 Axes>"
            ],
            "image/png": "[encoded data removed]"
          },
          "metadata": {}
        }
      ],
      "source": [
        "nimagen = 20000\n",
        "plt.imshow(x_train[nimagen,:].reshape(28,28), cmap='gray_r')\n",
        "plt.title('Imagen ejemplo - Categoría: ' + str(np.argmax(y_train_cat[nimagen])))\n",
        "plt.axis('off')"
      ]
    },
    {
      "cell_type": "markdown",
      "metadata": {
        "id": "yxQqQ5nPhVZy"
      },
      "source": [
        "Por defecto, Keras requiere cada dato de entrada en el formato nimagenes x nfilas x ncolumnas x ncanales, donde ncanales = 1 por ser imágenes en escala de gris. Se debe modificar el tamaño de *x_train* y *x_test* para cumplir con este requerimiento:"
      ]
    },
    {
      "cell_type": "code",
      "execution_count": 13,
      "metadata": {
        "colab": {
          "base_uri": "https://localhost:8080/"
        },
        "collapsed": true,
        "id": "jnQfecdphVZz",
        "outputId": "7a8772bf-2304-4495-f5ff-f3be37305165"
      },
      "outputs": [
        {
          "output_type": "stream",
          "name": "stdout",
          "text": [
            "(60000, 28, 28, 1)\n",
            "(10000, 28, 28, 1)\n"
          ]
        }
      ],
      "source": [
        "x_train = x_train.reshape(60000,28,28,1)\n",
        "x_test = x_test.reshape(10000,28,28,1)\n",
        "\n",
        "print(x_train.shape)\n",
        "print(x_test.shape)"
      ]
    },
    {
      "cell_type": "markdown",
      "metadata": {
        "id": "hEigVD_YhVZz"
      },
      "source": [
        "### 3.3 - Creación del modelo\n",
        "\n",
        "En la siguiente tabla se resumen las características de cada capa a implementar:\n",
        "    \n",
        "| **Capa**          | **Características**                            |\n",
        "|-------------------|------------------------------------------------|\n",
        "| CONV 1            | 6 filtros, 5x5, p=0, s=1, activación: ReLU     |\n",
        "| MAX-POOLING 1     | 6 filtros, 2x2, p=0, s=2, activación: Ninguna  |\n",
        "| CONV 2            | 16 filtros, 5x5, p=0, s=1, activación: ReLU    |\n",
        "| MAX-POOLING 2     | 16 filtros, 2x2, p=0, s=2, activación: Ninguna |\n",
        "| FLATTEN           | Simplemente convierte un volumen en un vector  |\n",
        "| FULLY CONNECTED 1 | 120 neuronas, activación: ReLU                 |\n",
        "| FULLY CONNECTED 2 | 84 neuronas, activación: ReLU                  |\n",
        "| SALIDA            | 10 categorías, activación: softmax             |\n",
        "\n"
      ]
    },
    {
      "cell_type": "markdown",
      "metadata": {
        "id": "6lElRoPRhVZ0"
      },
      "source": [
        "Creemos el contenedor del modelo usando *Sequential()*:"
      ]
    },
    {
      "cell_type": "code",
      "execution_count": 14,
      "metadata": {
        "collapsed": true,
        "id": "0Kh0ctFthVZ0"
      },
      "outputs": [],
      "source": [
        "modelo = Sequential()"
      ]
    },
    {
      "cell_type": "markdown",
      "metadata": {
        "id": "nwYicsGuhVZ0"
      },
      "source": [
        "Y añadimos, de forma secuencial, las diferentes capas de la red convolucional. En particular, usamos *Conv2D* para las capas convolucionales y *MaxPooling2D* para el *max-pooling*, junto con *Flatten* y *Dense* para la etapa de clasificación con redes neuronales y la capa de salida:"
      ]
    },
    {
      "cell_type": "code",
      "execution_count": 15,
      "metadata": {
        "collapsed": true,
        "id": "J06HNhDPhVZ0"
      },
      "outputs": [],
      "source": [
        "# CONV1 Y MAX-POOLING1\n",
        "modelo.add(Conv2D(filters=6, kernel_size=(5,5), activation='relu', input_shape=(28,28,1)))\n",
        "modelo.add(MaxPooling2D(pool_size=(2,2)))\n",
        "\n",
        "# CONV2 Y MAX-POOLING2\n",
        "modelo.add(Conv2D(filters=16, kernel_size=(5,5), activation='relu'))\n",
        "modelo.add(MaxPooling2D(pool_size=(2,2)))\n",
        "\n",
        "# Aplanar, FC1, FC2 y salida\n",
        "modelo.add(Flatten())\n",
        "modelo.add(Dense(120,activation='relu'))\n",
        "modelo.add(Dense(84,activation='relu'))\n",
        "modelo.add(Dense(nclases,activation='softmax'))"
      ]
    },
    {
      "cell_type": "markdown",
      "metadata": {
        "id": "2c83qRqQhVZ1"
      },
      "source": [
        "### 3.4 - Compilación del modelo\n",
        "\n",
        "En esta etapa definimos el optimizador a usar (gradiente descendente, tasa de aprendizaje = 0.1), así como la función de error (entropía cruzada) y la métrica de desempeño (precisión):"
      ]
    },
    {
      "cell_type": "code",
      "execution_count": 16,
      "metadata": {
        "collapsed": true,
        "id": "LcJ4O54ihVZ1"
      },
      "outputs": [],
      "source": [
        "sgd = SGD(learning_rate=0.1)\n",
        "modelo.compile(loss='categorical_crossentropy', optimizer=sgd, metrics=['accuracy'])"
      ]
    },
    {
      "cell_type": "markdown",
      "metadata": {
        "id": "3U-j2CUehVZ1"
      },
      "source": [
        "### 3.5 - Entrenamiento\n",
        "\n",
        "Realicemos el entrenamiento usando 10 iteraciones, una tasa de aprendizaje de 0.1 y un tamaño de lote (*batch_size*) de 128:"
      ]
    },
    {
      "cell_type": "code",
      "execution_count": 17,
      "metadata": {
        "colab": {
          "base_uri": "https://localhost:8080/"
        },
        "id": "LBaslP2qhVZ1",
        "outputId": "400dfe6a-d3ab-410f-ebe1-1e146b67fa79"
      },
      "outputs": [
        {
          "output_type": "stream",
          "name": "stdout",
          "text": [
            "Epoch 1/10\n",
            "469/469 [==============================] - 27s 56ms/step - loss: 0.3671 - accuracy: 0.8836 - val_loss: 0.1062 - val_accuracy: 0.9674\n",
            "Epoch 2/10\n",
            "469/469 [==============================] - 26s 56ms/step - loss: 0.0931 - accuracy: 0.9715 - val_loss: 0.0662 - val_accuracy: 0.9792\n",
            "Epoch 3/10\n",
            "469/469 [==============================] - 24s 51ms/step - loss: 0.0672 - accuracy: 0.9793 - val_loss: 0.0483 - val_accuracy: 0.9833\n",
            "Epoch 4/10\n",
            "469/469 [==============================] - 27s 58ms/step - loss: 0.0523 - accuracy: 0.9837 - val_loss: 0.0484 - val_accuracy: 0.9840\n",
            "Epoch 5/10\n",
            "469/469 [==============================] - 27s 58ms/step - loss: 0.0441 - accuracy: 0.9855 - val_loss: 0.0510 - val_accuracy: 0.9845\n",
            "Epoch 6/10\n",
            "469/469 [==============================] - 25s 53ms/step - loss: 0.0379 - accuracy: 0.9877 - val_loss: 0.0412 - val_accuracy: 0.9867\n",
            "Epoch 7/10\n",
            "469/469 [==============================] - 26s 56ms/step - loss: 0.0317 - accuracy: 0.9900 - val_loss: 0.0357 - val_accuracy: 0.9892\n",
            "Epoch 8/10\n",
            "469/469 [==============================] - 24s 52ms/step - loss: 0.0281 - accuracy: 0.9912 - val_loss: 0.0399 - val_accuracy: 0.9873\n",
            "Epoch 9/10\n",
            "469/469 [==============================] - 27s 57ms/step - loss: 0.0260 - accuracy: 0.9914 - val_loss: 0.0350 - val_accuracy: 0.9880\n",
            "Epoch 10/10\n",
            "469/469 [==============================] - 24s 50ms/step - loss: 0.0210 - accuracy: 0.9932 - val_loss: 0.0444 - val_accuracy: 0.9870\n"
          ]
        },
        {
          "output_type": "execute_result",
          "data": {
            "text/plain": [
              "<keras.callbacks.History at 0x7a4b5126b580>"
            ]
          },
          "metadata": {},
          "execution_count": 17
        }
      ],
      "source": [
        "nepochs = 10\n",
        "tam_lote = 128\n",
        "modelo.fit(x_train,y_train_cat,epochs=nepochs,batch_size=tam_lote, verbose=1, validation_data=(x_test,y_test_cat))"
      ]
    },
    {
      "cell_type": "markdown",
      "metadata": {
        "id": "Uafqz-nlhVZ2"
      },
      "source": [
        "Vemos que en la última iteración, el modelo alcanza una precisión de 99.3% para el set de entrenamiento y del 98.6% para el set de validación. Esta precisión nos indica que, en promedio, de cada 100 datos, aproximadamente 1 es clasificado incorrectamente. !Nada mal!"
      ]
    },
    {
      "cell_type": "markdown",
      "metadata": {
        "id": "R6qWDEPAhVZ2"
      },
      "source": [
        "## 4 - Desempeño del modelo\n",
        "\n",
        "La precisión obtenida anteriormente es una medida de desempeño global de la red convolucional, pero no nos permite verificar si algunos dígitos resultan mejor clasificados que otros. Para analizar en detalle este comportamiento, podemos usar la matriz de confusión:"
      ]
    },
    {
      "cell_type": "code",
      "execution_count": 18,
      "metadata": {
        "id": "om1a4fGCkzK5"
      },
      "outputs": [],
      "source": [
        "def graficar_matriz_de_confusion(y_test, y_ref, clases, cmap=plt.cm.Blues):\n",
        "\n",
        "    titulo = 'Matriz de confusión'\n",
        "\n",
        "    cm = confusion_matrix(y_test, y_ref)\n",
        "\n",
        "    # Generar figura\n",
        "    fig, ax = plt.subplots()\n",
        "    im = ax.imshow(cm, interpolation='nearest', cmap=cmap)\n",
        "    ax.set(xticks=np.arange(cm.shape[1]),\n",
        "           yticks=np.arange(cm.shape[0]),\n",
        "           xticklabels=clases, yticklabels=clases,\n",
        "           title=titulo,\n",
        "           ylabel='Categoría real',\n",
        "           xlabel='Predicción')\n",
        "\n",
        "    # Rotar y alinear ticks\n",
        "    plt.setp(ax.get_xticklabels(), rotation=45, ha=\"right\",\n",
        "             rotation_mode=\"anchor\")\n",
        "\n",
        "    # Rellenar gráfica con los valores de la matriz de confusión\n",
        "    fmt = 'd'\n",
        "    thresh = cm.max() / 2.\n",
        "    for i in range(cm.shape[0]):\n",
        "        for j in range(cm.shape[1]):\n",
        "            ax.text(j, i, format(cm[i, j], fmt),\n",
        "                    ha=\"center\", va=\"center\",\n",
        "                    color=\"white\" if cm[i, j] > thresh else \"black\")\n",
        "    fig.tight_layout()\n",
        "    plt.show()\n",
        "    return"
      ]
    },
    {
      "cell_type": "code",
      "execution_count": 19,
      "metadata": {
        "colab": {
          "base_uri": "https://localhost:8080/",
          "height": 558
        },
        "id": "bTcDwH8ohVZ2",
        "outputId": "a7b40bf2-19d6-4da6-9362-e234feb0a02e"
      },
      "outputs": [
        {
          "output_type": "stream",
          "name": "stdout",
          "text": [
            "313/313 [==============================] - 2s 6ms/step\n",
            "(10000,)\n",
            "(10000,)\n",
            "(10000, 10)\n",
            "[7 2 1 ... 4 5 6]\n"
          ]
        },
        {
          "output_type": "execute_result",
          "data": {
            "text/plain": [
              "<sklearn.metrics._plot.confusion_matrix.ConfusionMatrixDisplay at 0x7a4b3442c730>"
            ]
          },
          "metadata": {},
          "execution_count": 19
        },
        {
          "output_type": "display_data",
          "data": {
            "text/plain": [
              "<Figure size 640x480 with 2 Axes>"
            ],
            "image/png": "[encoded data removed]"
          },
          "metadata": {}
        }
      ],
      "source": [
        "y_pred = modelo.predict(x_test)\n",
        "y_ref = np.argmax(y_pred,axis=1)\n",
        "print(y_ref.shape)\n",
        "print(y_test.shape)\n",
        "print(y_pred.shape)\n",
        "print(y_ref)\n",
        "# print(y_test)\n",
        "etiquetas = ['0','1','2','3','4','5','6','7','8','9']\n",
        "cm = confusion_matrix(y_test, y_ref)\n",
        "ConfusionMatrixDisplay(cm).plot()\n"
      ]
    },
    {
      "cell_type": "code",
      "execution_count": 20,
      "metadata": {
        "collapsed": true,
        "id": "BBRpIKm7hVZ2",
        "colab": {
          "base_uri": "https://localhost:8080/",
          "height": 487
        },
        "outputId": "84f16c95-bd2e-493b-f710-e59ea9b3697b"
      },
      "outputs": [
        {
          "output_type": "display_data",
          "data": {
            "text/plain": [
              "<Figure size 640x480 with 1 Axes>"
            ],
            "image/png": "[encoded data removed]"
          },
          "metadata": {}
        }
      ],
      "source": [
        "graficar_matriz_de_confusion(y_test, y_ref, etiquetas)"
      ]
    }
  ],
  "metadata": {
    "colab": {
      "provenance": []
    },
    "kernelspec": {
      "display_name": "Python 3",
      "language": "python",
      "name": "python3"
    },
    "language_info": {
      "codemirror_mode": {
        "name": "ipython",
        "version": 3
      },
      "file_extension": ".py",
      "mimetype": "text/x-python",
      "name": "python",
      "nbconvert_exporter": "python",
      "pygments_lexer": "ipython3",
      "version": "3.4.5"
    }
  },
  "nbformat": 4,
  "nbformat_minor": 0
}