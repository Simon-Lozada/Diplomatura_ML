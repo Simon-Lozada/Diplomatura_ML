{
  "nbformat": 4,
  "nbformat_minor": 0,
  "metadata": {
    "colab": {
      "provenance": []
    },
    "kernelspec": {
      "name": "python3",
      "display_name": "Python 3"
    },
    "language_info": {
      "name": "python"
    }
  },
  "cells": [
    {
      "cell_type": "code",
      "execution_count": null,
      "metadata": {
        "id": "Shv-B3P4Y-PR"
      },
      "outputs": [],
      "source": [
        "'''\n",
        "Uso de Random Forest como Regresor.\n",
        "Para fijar ideas, usarlo como regresor significar que lo usaremos para predecir\n",
        "pero no usando usando un conjunto de datos con muchas características, sino que\n",
        "tomaremos una o varias característica como variable/s INDEPENDIENTE y otra \n",
        "(la que queremos predecir) como variable DEPENDIENTE.\n",
        "\n",
        "DOCUMENTACIÓN OFICIAL SKLEARN DECISION TREE COMO REGRESOR\n",
        "https://scikit-learn.org/stable/modules/generated/sklearn.ensemble.RandomForestRegressor.html#sklearn.ensemble.RandomForestRegressor\n",
        "\n",
        "'''\n",
        "\n",
        "# cargamos las librerías que usaremos\n",
        "import numpy as np\n",
        "import pandas as pd\n",
        "import matplotlib.pyplot as plt\n",
        "import seaborn as sns\n",
        "import warnings\n",
        "from sklearn.ensemble import RandomForestRegressor\n",
        "\n",
        "warnings.filterwarnings('ignore')\n"
      ]
    },
    {
      "cell_type": "code",
      "source": [
        "# cargamos los datos en un df, directamente desde Seaborn\n",
        "# nos interesa ver si podemos encontrar relaciones entre algunas variables continuas\n",
        "\n",
        "data = sns.load_dataset('anscombe')"
      ],
      "metadata": {
        "id": "d6kcbLm5ZGf9"
      },
      "execution_count": null,
      "outputs": []
    },
    {
      "cell_type": "code",
      "source": [
        "print(data.shape)\n",
        "print(data.head(10))\n",
        "print(data.columns)"
      ],
      "metadata": {
        "colab": {
          "base_uri": "https://localhost:8080/"
        },
        "id": "Gmtb4WmfZLQ3",
        "outputId": "57c1a793-24b5-4267-ddfb-daae1317366b"
      },
      "execution_count": null,
      "outputs": [
        {
          "output_type": "stream",
          "name": "stdout",
          "text": [
            "(44, 3)\n",
            "  dataset     x      y\n",
            "0       I  10.0   8.04\n",
            "1       I   8.0   6.95\n",
            "2       I  13.0   7.58\n",
            "3       I   9.0   8.81\n",
            "4       I  11.0   8.33\n",
            "5       I  14.0   9.96\n",
            "6       I   6.0   7.24\n",
            "7       I   4.0   4.26\n",
            "8       I  12.0  10.84\n",
            "9       I   7.0   4.82\n",
            "Index(['dataset', 'x', 'y'], dtype='object')\n"
          ]
        }
      ]
    },
    {
      "cell_type": "code",
      "source": [
        "data.info()"
      ],
      "metadata": {
        "colab": {
          "base_uri": "https://localhost:8080/"
        },
        "id": "Z5Ilx93cZOi4",
        "outputId": "3fba2376-de47-493a-af3f-ea4a3e90b73e"
      },
      "execution_count": null,
      "outputs": [
        {
          "output_type": "stream",
          "name": "stdout",
          "text": [
            "<class 'pandas.core.frame.DataFrame'>\n",
            "RangeIndex: 44 entries, 0 to 43\n",
            "Data columns (total 3 columns):\n",
            " #   Column   Non-Null Count  Dtype  \n",
            "---  ------   --------------  -----  \n",
            " 0   dataset  44 non-null     object \n",
            " 1   x        44 non-null     float64\n",
            " 2   y        44 non-null     float64\n",
            "dtypes: float64(2), object(1)\n",
            "memory usage: 1.2+ KB\n"
          ]
        }
      ]
    },
    {
      "cell_type": "code",
      "source": [
        "print(data.isnull().sum())"
      ],
      "metadata": {
        "colab": {
          "base_uri": "https://localhost:8080/"
        },
        "id": "WlPUjUwCZRu_",
        "outputId": "ac3db502-500a-4779-e6fe-293ef4cda9bb"
      },
      "execution_count": null,
      "outputs": [
        {
          "output_type": "stream",
          "name": "stdout",
          "text": [
            "dataset    0\n",
            "x          0\n",
            "y          0\n",
            "dtype: int64\n"
          ]
        }
      ]
    },
    {
      "cell_type": "code",
      "source": [
        "# Show the results of a linear regression within each dataset\n",
        "sns.lmplot(\n",
        "    data=data, x=\"x\", y=\"y\", col=\"dataset\", hue=\"dataset\",\n",
        "    col_wrap=2, palette=\"muted\", ci=None,\n",
        "    height=4, scatter_kws={\"s\": 50, \"alpha\": 1}\n",
        ")"
      ],
      "metadata": {
        "colab": {
          "base_uri": "https://localhost:8080/",
          "height": 602
        },
        "id": "yZaOBnAqZVUc",
        "outputId": "6830584d-79fd-4ee1-a0d0-38acef863fbb"
      },
      "execution_count": null,
      "outputs": [
        {
          "output_type": "execute_result",
          "data": {
            "text/plain": [
              "<seaborn.axisgrid.FacetGrid at 0x7ff80aebafa0>"
            ]
          },
          "metadata": {},
          "execution_count": 34
        },
        {
          "output_type": "display_data",
          "data": {
            "text/plain": [
              "<Figure size 576x576 with 4 Axes>"
            ],
            "image/png": "[encoded data removed]"
          },
          "metadata": {
            "needs_background": "light"
          }
        }
      ]
    },
    {
      "cell_type": "code",
      "source": [
        "# separamos el dataset II\n",
        "data2=data[data['dataset']=='II']\n",
        "data2"
      ],
      "metadata": {
        "colab": {
          "base_uri": "https://localhost:8080/",
          "height": 394
        },
        "id": "ofOAsxn0ZaPg",
        "outputId": "da0ef3bd-d8da-4fc6-cf9f-b3ce2024446b"
      },
      "execution_count": null,
      "outputs": [
        {
          "output_type": "execute_result",
          "data": {
            "text/plain": [
              "   dataset     x     y\n",
              "11      II  10.0  9.14\n",
              "12      II   8.0  8.14\n",
              "13      II  13.0  8.74\n",
              "14      II   9.0  8.77\n",
              "15      II  11.0  9.26\n",
              "16      II  14.0  8.10\n",
              "17      II   6.0  6.13\n",
              "18      II   4.0  3.10\n",
              "19      II  12.0  9.13\n",
              "20      II   7.0  7.26\n",
              "21      II   5.0  4.74"
            ],
            "text/html": [
              "\n",
              "  <div id=\"df-fab56bfe-62b3-4bc8-b77f-b15ec66471f1\">\n",
              "    <div class=\"colab-df-container\">\n",
              "      <div>\n",
              "<style scoped>\n",
              "    .dataframe tbody tr th:only-of-type {\n",
              "        vertical-align: middle;\n",
              "    }\n",
              "\n",
              "    .dataframe tbody tr th {\n",
              "        vertical-align: top;\n",
              "    }\n",
              "\n",
              "    .dataframe thead th {\n",
              "        text-align: right;\n",
              "    }\n",
              "</style>\n",
              "<table border=\"1\" class=\"dataframe\">\n",
              "  <thead>\n",
              "    <tr style=\"text-align: right;\">\n",
              "      <th></th>\n",
              "      <th>dataset</th>\n",
              "      <th>x</th>\n",
              "      <th>y</th>\n",
              "    </tr>\n",
              "  </thead>\n",
              "  <tbody>\n",
              "    <tr>\n",
              "      <th>11</th>\n",
              "      <td>II</td>\n",
              "      <td>10.0</td>\n",
              "      <td>9.14</td>\n",
              "    </tr>\n",
              "    <tr>\n",
              "      <th>12</th>\n",
              "      <td>II</td>\n",
              "      <td>8.0</td>\n",
              "      <td>8.14</td>\n",
              "    </tr>\n",
              "    <tr>\n",
              "      <th>13</th>\n",
              "      <td>II</td>\n",
              "      <td>13.0</td>\n",
              "      <td>8.74</td>\n",
              "    </tr>\n",
              "    <tr>\n",
              "      <th>14</th>\n",
              "      <td>II</td>\n",
              "      <td>9.0</td>\n",
              "      <td>8.77</td>\n",
              "    </tr>\n",
              "    <tr>\n",
              "      <th>15</th>\n",
              "      <td>II</td>\n",
              "      <td>11.0</td>\n",
              "      <td>9.26</td>\n",
              "    </tr>\n",
              "    <tr>\n",
              "      <th>16</th>\n",
              "      <td>II</td>\n",
              "      <td>14.0</td>\n",
              "      <td>8.10</td>\n",
              "    </tr>\n",
              "    <tr>\n",
              "      <th>17</th>\n",
              "      <td>II</td>\n",
              "      <td>6.0</td>\n",
              "      <td>6.13</td>\n",
              "    </tr>\n",
              "    <tr>\n",
              "      <th>18</th>\n",
              "      <td>II</td>\n",
              "      <td>4.0</td>\n",
              "      <td>3.10</td>\n",
              "    </tr>\n",
              "    <tr>\n",
              "      <th>19</th>\n",
              "      <td>II</td>\n",
              "      <td>12.0</td>\n",
              "      <td>9.13</td>\n",
              "    </tr>\n",
              "    <tr>\n",
              "      <th>20</th>\n",
              "      <td>II</td>\n",
              "      <td>7.0</td>\n",
              "      <td>7.26</td>\n",
              "    </tr>\n",
              "    <tr>\n",
              "      <th>21</th>\n",
              "      <td>II</td>\n",
              "      <td>5.0</td>\n",
              "      <td>4.74</td>\n",
              "    </tr>\n",
              "  </tbody>\n",
              "</table>\n",
              "</div>\n",
              "      <button class=\"colab-df-convert\" onclick=\"convertToInteractive('df-fab56bfe-62b3-4bc8-b77f-b15ec66471f1')\"\n",
              "              title=\"Convert this dataframe to an interactive table.\"\n",
              "              style=\"display:none;\">\n",
              "        \n",
              "  <svg xmlns=\"http://www.w3.org/2000/svg\" height=\"24px\"viewBox=\"0 0 24 24\"\n",
              "       width=\"24px\">\n",
              "    <path d=\"M0 0h24v24H0V0z\" fill=\"none\"/>\n",
              "    <path d=\"M18.56 5.44l.94 2.06.94-2.06 2.06-.94-2.06-.94-.94-2.06-.94 2.06-2.06.94zm-11 1L8.5 8.5l.94-2.06 2.06-.94-2.06-.94L8.5 2.5l-.94 2.06-2.06.94zm10 10l.94 2.06.94-2.06 2.06-.94-2.06-.94-.94-2.06-.94 2.06-2.06.94z\"/><path d=\"M17.41 7.96l-1.37-1.37c-.4-.4-.92-.59-1.43-.59-.52 0-1.04.2-1.43.59L10.3 9.45l-7.72 7.72c-.78.78-.78 2.05 0 2.83L4 21.41c.39.39.9.59 1.41.59.51 0 1.02-.2 1.41-.59l7.78-7.78 2.81-2.81c.8-.78.8-2.07 0-2.86zM5.41 20L4 18.59l7.72-7.72 1.47 1.35L5.41 20z\"/>\n",
              "  </svg>\n",
              "      </button>\n",
              "      \n",
              "  <style>\n",
              "    .colab-df-container {\n",
              "      display:flex;\n",
              "      flex-wrap:wrap;\n",
              "      gap: 12px;\n",
              "    }\n",
              "\n",
              "    .colab-df-convert {\n",
              "      background-color: #E8F0FE;\n",
              "      border: none;\n",
              "      border-radius: 50%;\n",
              "      cursor: pointer;\n",
              "      display: none;\n",
              "      fill: #1967D2;\n",
              "      height: 32px;\n",
              "      padding: 0 0 0 0;\n",
              "      width: 32px;\n",
              "    }\n",
              "\n",
              "    .colab-df-convert:hover {\n",
              "      background-color: #E2EBFA;\n",
              "      box-shadow: 0px 1px 2px rgba(60, 64, 67, 0.3), 0px 1px 3px 1px rgba(60, 64, 67, 0.15);\n",
              "      fill: #174EA6;\n",
              "    }\n",
              "\n",
              "    [theme=dark] .colab-df-convert {\n",
              "      background-color: #3B4455;\n",
              "      fill: #D2E3FC;\n",
              "    }\n",
              "\n",
              "    [theme=dark] .colab-df-convert:hover {\n",
              "      background-color: #434B5C;\n",
              "      box-shadow: 0px 1px 3px 1px rgba(0, 0, 0, 0.15);\n",
              "      filter: drop-shadow(0px 1px 2px rgba(0, 0, 0, 0.3));\n",
              "      fill: #FFFFFF;\n",
              "    }\n",
              "  </style>\n",
              "\n",
              "      <script>\n",
              "        const buttonEl =\n",
              "          document.querySelector('#df-fab56bfe-62b3-4bc8-b77f-b15ec66471f1 button.colab-df-convert');\n",
              "        buttonEl.style.display =\n",
              "          google.colab.kernel.accessAllowed ? 'block' : 'none';\n",
              "\n",
              "        async function convertToInteractive(key) {\n",
              "          const element = document.querySelector('#df-fab56bfe-62b3-4bc8-b77f-b15ec66471f1');\n",
              "          const dataTable =\n",
              "            await google.colab.kernel.invokeFunction('convertToInteractive',\n",
              "                                                     [key], {});\n",
              "          if (!dataTable) return;\n",
              "\n",
              "          const docLinkHtml = 'Like what you see? Visit the ' +\n",
              "            '<a target=\"_blank\" href=https://colab.research.google.com/notebooks/data_table.ipynb>data table notebook</a>'\n",
              "            + ' to learn more about interactive tables.';\n",
              "          element.innerHTML = '';\n",
              "          dataTable['output_type'] = 'display_data';\n",
              "          await google.colab.output.renderOutput(dataTable, element);\n",
              "          const docLink = document.createElement('div');\n",
              "          docLink.innerHTML = docLinkHtml;\n",
              "          element.appendChild(docLink);\n",
              "        }\n",
              "      </script>\n",
              "    </div>\n",
              "  </div>\n",
              "  "
            ]
          },
          "metadata": {},
          "execution_count": 35
        }
      ]
    },
    {
      "cell_type": "code",
      "source": [
        "# graficaremos los valores del dataset\n",
        "\n",
        "fig=plt.figure(figsize=(8,6))\n",
        "plt.scatter(data2['x'],data2['y'],color=\"magenta\", alpha=0.5)\n",
        "plt.title(\"x vs y\",fontsize=14,fontweight=\"bold\")\n",
        "plt.xlabel(\"x\")\n",
        "plt.ylabel(\"y\")\n",
        "plt.show()\n",
        "plt.close()\n"
      ],
      "metadata": {
        "colab": {
          "base_uri": "https://localhost:8080/",
          "height": 405
        },
        "id": "K__tuG0bZd3N",
        "outputId": "b0507b79-279a-47e9-8319-163083e8d327"
      },
      "execution_count": null,
      "outputs": [
        {
          "output_type": "display_data",
          "data": {
            "text/plain": [
              "<Figure size 576x432 with 1 Axes>"
            ],
            "image/png": "[encoded data removed]"
          },
          "metadata": {
            "needs_background": "light"
          }
        }
      ]
    },
    {
      "cell_type": "code",
      "source": [
        "# Definimos las variables predictoras e independiente\n",
        "y=data2.pop('y')\n",
        "y"
      ],
      "metadata": {
        "colab": {
          "base_uri": "https://localhost:8080/"
        },
        "id": "79wbVvQ9ZgQb",
        "outputId": "cd5dee5c-c8a7-44b5-d28e-df13679b0422"
      },
      "execution_count": null,
      "outputs": [
        {
          "output_type": "execute_result",
          "data": {
            "text/plain": [
              "11    9.14\n",
              "12    8.14\n",
              "13    8.74\n",
              "14    8.77\n",
              "15    9.26\n",
              "16    8.10\n",
              "17    6.13\n",
              "18    3.10\n",
              "19    9.13\n",
              "20    7.26\n",
              "21    4.74\n",
              "Name: y, dtype: float64"
            ]
          },
          "metadata": {},
          "execution_count": 37
        }
      ]
    },
    {
      "cell_type": "code",
      "source": [
        "# Ahora ponemos a trabajar al bosque de arbolitos...\n",
        "# Usamos RandomForestRegressor(n_estimators = 100, random_state = 10)\n",
        "# pedimos que calcule el score (qué tan cerca está la predicción de los datos)\n",
        "# comparamos la predicción con los datos y graficamos\n",
        "# instanciamos modelo\n",
        "rf = RandomForestRegressor(random_state = 16)\n",
        "# entrenamos...\n",
        "x_train=data2['x'].to_frame()\n",
        "rf.fit(x_train, y)\n",
        "\n",
        "'''\n",
        "class sklearn.ensemble.RandomForestRegressor(n_estimators=100, *, criterion='squared_error',\n",
        " max_depth=None, min_samples_split=2, min_samples_leaf=1, min_weight_fraction_leaf=0.0, \n",
        " max_features=1.0, max_leaf_nodes=None, min_impurity_decrease=0.0, bootstrap=True, \n",
        " oob_score=False, n_jobs=None, random_state=None, verbose=0, warm_start=False, ccp_alpha=0.0,\n",
        "  max_samples=None)\n",
        "\n",
        "'''"
      ],
      "metadata": {
        "colab": {
          "base_uri": "https://localhost:8080/",
          "height": 69
        },
        "id": "UoLc17v7ZsQK",
        "outputId": "f1545afa-94a6-429b-ac73-5a0bf034ce4e"
      },
      "execution_count": null,
      "outputs": [
        {
          "output_type": "execute_result",
          "data": {
            "text/plain": [
              "\"\\nclass sklearn.ensemble.RandomForestRegressor(n_estimators=100, *, criterion='squared_error',\\n max_depth=None, min_samples_split=2, min_samples_leaf=1, min_weight_fraction_leaf=0.0, \\n max_features=1.0, max_leaf_nodes=None, min_impurity_decrease=0.0, bootstrap=True, \\n oob_score=False, n_jobs=None, random_state=None, verbose=0, warm_start=False, ccp_alpha=0.0,\\n  max_samples=None)\\n\\n\""
            ],
            "application/vnd.google.colaboratory.intrinsic+json": {
              "type": "string"
            }
          },
          "metadata": {},
          "execution_count": 38
        }
      ]
    },
    {
      "cell_type": "code",
      "source": [
        "\n",
        "# VAMOS A PEDIR UNA PREDICCIÓN Y GRAFICARLA CON OTRO COLOR sobre X_test\n",
        "x_test=pd.DataFrame([[4.5],[6.5],[8.5],[10.5],[12.5]])\n",
        "y_pred=rf.predict(x_test)\n",
        "\n",
        "\n",
        "print(y_pred)"
      ],
      "metadata": {
        "colab": {
          "base_uri": "https://localhost:8080/"
        },
        "id": "PjjMIlOIfOp2",
        "outputId": "a006a4d9-2673-4526-855c-993add81621e"
      },
      "execution_count": null,
      "outputs": [
        {
          "output_type": "stream",
          "name": "stdout",
          "text": [
            "[3.7686 6.3767 8.237  9.1227 9.0236]\n"
          ]
        }
      ]
    },
    {
      "cell_type": "code",
      "source": [
        "# definimos el rango de x para graficar\n",
        "x_vect = np.arange(0.0, 15., 0.01) # es un vector numpy, NO pandas\n",
        "x_graf = x_vect.reshape((len(x_vect), 1)) # ahora es un dataframe de 1 col\n",
        "\n",
        "# armamos gráfico\n",
        "plt.figure(dpi=150)   # abro figura\n",
        "plt.scatter(x_train, y, c = 'magenta')     # grafica los datos\n",
        "plt.plot(x_graf, rf.predict(x_graf), color = 'lime') # id predicción\n",
        "plt.scatter(x_test, y_pred, color='cyan', marker='*')\n",
        "plt.plot()\n",
        "plt.title(f'Regresión Random Forest para Anscombe')\n",
        "plt.xlabel('x')\n",
        "plt.ylabel('y')\n",
        "#plt.savefig('anscombe.png', dpi = 300)  # guardo en archivo\n",
        "plt.show()  # muestro gráfico\n",
        "plt.close() # cierro figura\n"
      ],
      "metadata": {
        "colab": {
          "base_uri": "https://localhost:8080/",
          "height": 595
        },
        "id": "e1-xJ4MHZw3R",
        "outputId": "70533f3b-adf1-4e47-d1d6-250d3734dd36"
      },
      "execution_count": null,
      "outputs": [
        {
          "output_type": "display_data",
          "data": {
            "text/plain": [
              "<Figure size 900x600 with 1 Axes>"
            ],
            "image/png": "[encoded data removed]"
          },
          "metadata": {
            "needs_background": "light"
          }
        }
      ]
    },
    {
      "cell_type": "code",
      "source": [
        "# preguntamos qué tal predice sobre los datos ingresados\n",
        "print('\\n')\n",
        "print(f'Precisión sobre valores REALES: {rf.score(x_train, y)}')\n",
        "print(f'Precisión sobre valores PREDICCION: {rf.score(x_graf, rf.predict(x_graf))}')\n",
        "print('\\n')\n"
      ],
      "metadata": {
        "colab": {
          "base_uri": "https://localhost:8080/"
        },
        "id": "VVV7q_-ZZ4qn",
        "outputId": "deb313b5-eb9a-4887-8ea6-9653557ff36f"
      },
      "execution_count": null,
      "outputs": [
        {
          "output_type": "stream",
          "name": "stdout",
          "text": [
            "\n",
            "\n",
            "Precisión sobre valores REALES: 0.9787594110156123\n",
            "Precisión sobre valores PREDICCION: 1.0\n",
            "\n",
            "\n"
          ]
        }
      ]
    }
  ]
}