{
  "nbformat": 4,
  "nbformat_minor": 0,
  "metadata": {
    "colab": {
      "provenance": []
    },
    "kernelspec": {
      "name": "python3",
      "display_name": "Python 3"
    },
    "language_info": {
      "name": "python"
    }
  },
  "cells": [
    {
      "cell_type": "code",
      "execution_count": 1,
      "metadata": {
        "id": "OntvmiGqs9VO"
      },
      "outputs": [],
      "source": [
        "import pandas as pd\n",
        "from google.colab import files\n",
        "from mlxtend.frequent_patterns import apriori\n",
        "from mlxtend.frequent_patterns import association_rules\n"
      ]
    },
    {
      "cell_type": "code",
      "source": [
        "files.upload()"
      ],
      "metadata": {
        "id": "gJpZPf1LtZ1j"
      },
      "execution_count": null,
      "outputs": []
    },
    {
      "cell_type": "code",
      "source": [
        "df = pd.read_excel('http://archive.ics.uci.edu/ml/machine-learning-databases/00352/Online%20Retail.xlsx')\n",
        "#df = pd.read_csv('Market_Basket_Optimisation.csv')\n",
        "print(df.head(10))\n",
        "print(df.shape)\n",
        "print(df.columns)"
      ],
      "metadata": {
        "colab": {
          "base_uri": "https://localhost:8080/"
        },
        "id": "xylEWrEgtGzg",
        "outputId": "16705b6d-6f23-487c-b0f4-4a097f47a438"
      },
      "execution_count": 2,
      "outputs": [
        {
          "output_type": "stream",
          "name": "stdout",
          "text": [
            "  InvoiceNo StockCode                          Description  Quantity  \\\n",
            "0    536365    85123A   WHITE HANGING HEART T-LIGHT HOLDER         6   \n",
            "1    536365     71053                  WHITE METAL LANTERN         6   \n",
            "2    536365    84406B       CREAM CUPID HEARTS COAT HANGER         8   \n",
            "3    536365    84029G  KNITTED UNION FLAG HOT WATER BOTTLE         6   \n",
            "4    536365    84029E       RED WOOLLY HOTTIE WHITE HEART.         6   \n",
            "5    536365     22752         SET 7 BABUSHKA NESTING BOXES         2   \n",
            "6    536365     21730    GLASS STAR FROSTED T-LIGHT HOLDER         6   \n",
            "7    536366     22633               HAND WARMER UNION JACK         6   \n",
            "8    536366     22632            HAND WARMER RED POLKA DOT         6   \n",
            "9    536367     84879        ASSORTED COLOUR BIRD ORNAMENT        32   \n",
            "\n",
            "          InvoiceDate  UnitPrice  CustomerID         Country  \n",
            "0 2010-12-01 08:26:00       2.55     17850.0  United Kingdom  \n",
            "1 2010-12-01 08:26:00       3.39     17850.0  United Kingdom  \n",
            "2 2010-12-01 08:26:00       2.75     17850.0  United Kingdom  \n",
            "3 2010-12-01 08:26:00       3.39     17850.0  United Kingdom  \n",
            "4 2010-12-01 08:26:00       3.39     17850.0  United Kingdom  \n",
            "5 2010-12-01 08:26:00       7.65     17850.0  United Kingdom  \n",
            "6 2010-12-01 08:26:00       4.25     17850.0  United Kingdom  \n",
            "7 2010-12-01 08:28:00       1.85     17850.0  United Kingdom  \n",
            "8 2010-12-01 08:28:00       1.85     17850.0  United Kingdom  \n",
            "9 2010-12-01 08:34:00       1.69     13047.0  United Kingdom  \n",
            "(541909, 8)\n",
            "Index(['InvoiceNo', 'StockCode', 'Description', 'Quantity', 'InvoiceDate',\n",
            "       'UnitPrice', 'CustomerID', 'Country'],\n",
            "      dtype='object')\n"
          ]
        }
      ]
    },
    {
      "cell_type": "code",
      "source": [
        "df.info()"
      ],
      "metadata": {
        "colab": {
          "base_uri": "https://localhost:8080/"
        },
        "id": "W_Kl_QnJD61_",
        "outputId": "ddffa946-4a18-4e6a-957a-813e86ac0272"
      },
      "execution_count": 5,
      "outputs": [
        {
          "output_type": "stream",
          "name": "stdout",
          "text": [
            "<class 'pandas.core.frame.DataFrame'>\n",
            "RangeIndex: 541909 entries, 0 to 541908\n",
            "Data columns (total 8 columns):\n",
            " #   Column       Non-Null Count   Dtype         \n",
            "---  ------       --------------   -----         \n",
            " 0   InvoiceNo    541909 non-null  object        \n",
            " 1   StockCode    541909 non-null  object        \n",
            " 2   Description  540455 non-null  object        \n",
            " 3   Quantity     541909 non-null  int64         \n",
            " 4   InvoiceDate  541909 non-null  datetime64[ns]\n",
            " 5   UnitPrice    541909 non-null  float64       \n",
            " 6   CustomerID   406829 non-null  float64       \n",
            " 7   Country      541909 non-null  object        \n",
            "dtypes: datetime64[ns](1), float64(2), int64(1), object(4)\n",
            "memory usage: 33.1+ MB\n"
          ]
        }
      ]
    },
    {
      "cell_type": "code",
      "source": [
        "# hay que verificar si hay valores faltantes en el dataframe\n",
        "print(df.isnull().sum())"
      ],
      "metadata": {
        "colab": {
          "base_uri": "https://localhost:8080/"
        },
        "id": "sb4ITEE8uPvu",
        "outputId": "b9a97410-3049-4e17-c46d-5bac384a59d6"
      },
      "execution_count": 3,
      "outputs": [
        {
          "output_type": "stream",
          "name": "stdout",
          "text": [
            "InvoiceNo           0\n",
            "StockCode           0\n",
            "Description      1454\n",
            "Quantity            0\n",
            "InvoiceDate         0\n",
            "UnitPrice           0\n",
            "CustomerID     135080\n",
            "Country             0\n",
            "dtype: int64\n"
          ]
        }
      ]
    },
    {
      "cell_type": "code",
      "source": [
        "#%% vemos de qué países son las transacciones\n",
        "\n",
        "print(df['Country'].unique())\n"
      ],
      "metadata": {
        "colab": {
          "base_uri": "https://localhost:8080/"
        },
        "id": "xvF-GMNHuR8h",
        "outputId": "645947b5-79d1-43af-9c95-0f7b8a05a01f"
      },
      "execution_count": 4,
      "outputs": [
        {
          "output_type": "stream",
          "name": "stdout",
          "text": [
            "['United Kingdom' 'France' 'Australia' 'Netherlands' 'Germany' 'Norway'\n",
            " 'EIRE' 'Switzerland' 'Spain' 'Poland' 'Portugal' 'Italy' 'Belgium'\n",
            " 'Lithuania' 'Japan' 'Iceland' 'Channel Islands' 'Denmark' 'Cyprus'\n",
            " 'Sweden' 'Austria' 'Israel' 'Finland' 'Bahrain' 'Greece' 'Hong Kong'\n",
            " 'Singapore' 'Lebanon' 'United Arab Emirates' 'Saudi Arabia'\n",
            " 'Czech Republic' 'Canada' 'Unspecified' 'Brazil' 'USA'\n",
            " 'European Community' 'Malta' 'RSA']\n"
          ]
        }
      ]
    },
    {
      "cell_type": "code",
      "source": [
        "#%%   Eliminamos espacios en las descripciones y las filas donde no se identifica al comprador\n",
        "\n",
        "df['Description'] = df['Description'].str.strip()\n",
        "#df.dropna(axis=0, subset=['InvoiceNo'], inplace=True)\n",
        "#df['InvoiceNo'] = df['InvoiceNo'].astype('str')\n"
      ],
      "metadata": {
        "id": "byxk-QIiub6Z"
      },
      "execution_count": 6,
      "outputs": []
    },
    {
      "cell_type": "code",
      "source": [
        "#%%  nos quedamos con los datos de Italia\n",
        "# cada fila representa una factura y cada columna un producto\n",
        "# creamos un nuevo dataframe con los productos comprados\n",
        "\n",
        "basket = (df[df['Country']==\"Italy\"]\n",
        "          .groupby(['InvoiceNo', 'Description'])['Quantity']\n",
        "          .sum().unstack().reset_index().fillna(0)\n",
        "          .set_index('InvoiceNo'))\n",
        "\n",
        "basket.drop('POSTAGE', inplace=True, axis=1)\n",
        "print(basket.shape)\n",
        "print(basket.head(5))"
      ],
      "metadata": {
        "colab": {
          "base_uri": "https://localhost:8080/"
        },
        "id": "Ox0T8uNPufaF",
        "outputId": "0d9b07a4-f148-4adc-99e8-efef1db91e18"
      },
      "execution_count": 7,
      "outputs": [
        {
          "output_type": "stream",
          "name": "stdout",
          "text": [
            "(55, 479)\n",
            "Description  12 EGG HOUSE PAINTED WOOD  12 PENCILS TALL TUBE RED RETROSPOT  \\\n",
            "InvoiceNo                                                                    \n",
            "537022                             0.0                                 0.0   \n",
            "539752                             0.0                                 0.0   \n",
            "541115                             0.0                                 0.0   \n",
            "541703                             0.0                                 0.0   \n",
            "542238                             0.0                                 0.0   \n",
            "\n",
            "Description  12 PENCILS TALL TUBE SKULLS  12 PENCILS TALL TUBE WOODLAND  \\\n",
            "InvoiceNo                                                                 \n",
            "537022                               0.0                            0.0   \n",
            "539752                               0.0                            0.0   \n",
            "541115                               0.0                            0.0   \n",
            "541703                               0.0                            0.0   \n",
            "542238                               0.0                            0.0   \n",
            "\n",
            "Description  16 PIECE CUTLERY SET PANTRY DESIGN  20 DOLLY PEGS RETROSPOT  \\\n",
            "InvoiceNo                                                                  \n",
            "537022                                      0.0                      0.0   \n",
            "539752                                      0.0                      0.0   \n",
            "541115                                      0.0                      0.0   \n",
            "541703                                      0.0                      0.0   \n",
            "542238                                      0.0                      0.0   \n",
            "\n",
            "Description  3 GARDENIA MORRIS BOXED CANDLES  3 ROSE MORRIS BOXED CANDLES  \\\n",
            "InvoiceNo                                                                   \n",
            "537022                                   4.0                          4.0   \n",
            "539752                                   0.0                          0.0   \n",
            "541115                                   0.0                          0.0   \n",
            "541703                                   0.0                          0.0   \n",
            "542238                                   0.0                          0.0   \n",
            "\n",
            "Description  3 STRIPEY MICE FELTCRAFT  3 TIER CAKE TIN RED AND CREAM  ...  \\\n",
            "InvoiceNo                                                             ...   \n",
            "537022                            0.0                            0.0  ...   \n",
            "539752                            0.0                            0.0  ...   \n",
            "541115                            0.0                            0.0  ...   \n",
            "541703                            0.0                            0.0  ...   \n",
            "542238                            0.0                            0.0  ...   \n",
            "\n",
            "Description  WOODLAND BUNNIES LOLLY MAKERS  WOODLAND CHARLOTTE BAG  \\\n",
            "InvoiceNo                                                            \n",
            "537022                                 0.0                     0.0   \n",
            "539752                                 0.0                     0.0   \n",
            "541115                                 0.0                     0.0   \n",
            "541703                                 0.0                     0.0   \n",
            "542238                                 0.0                     0.0   \n",
            "\n",
            "Description  WRAP DOILEY DESIGN  WRAP ENGLISH ROSE  WRAP I LOVE LONDON  \\\n",
            "InvoiceNo                                                                \n",
            "537022                      0.0                0.0                 0.0   \n",
            "539752                      0.0                0.0                 0.0   \n",
            "541115                      0.0                0.0                 0.0   \n",
            "541703                      0.0                0.0                 0.0   \n",
            "542238                      0.0                0.0                 0.0   \n",
            "\n",
            "Description  WRAP RED APPLES  WRAP RED VINTAGE DOILY  \\\n",
            "InvoiceNo                                              \n",
            "537022                   0.0                     0.0   \n",
            "539752                   0.0                     0.0   \n",
            "541115                   0.0                     0.0   \n",
            "541703                   0.0                     0.0   \n",
            "542238                   0.0                     0.0   \n",
            "\n",
            "Description  YOU'RE CONFUSING ME METAL SIGN  ZINC BOX SIGN HOME  \\\n",
            "InvoiceNo                                                         \n",
            "537022                                  0.0                 0.0   \n",
            "539752                                  0.0                 0.0   \n",
            "541115                                  0.0                 0.0   \n",
            "541703                                  0.0                 0.0   \n",
            "542238                                  0.0                 0.0   \n",
            "\n",
            "Description  ZINC FOLKART SLEIGH BELLS  \n",
            "InvoiceNo                               \n",
            "537022                             0.0  \n",
            "539752                             0.0  \n",
            "541115                             0.0  \n",
            "541703                             0.0  \n",
            "542238                             0.0  \n",
            "\n",
            "[5 rows x 479 columns]\n"
          ]
        }
      ]
    },
    {
      "cell_type": "code",
      "source": [
        "# primero hay que preprocesar y dejarlo en formato one-hot encoder\n",
        "\n",
        "basket_ok = pd.get_dummies(basket, sparse = True)\n",
        "print(basket_ok.T.head(10))\n",
        "print(basket_ok.columns)\n",
        "print(basket_ok.shape)"
      ],
      "metadata": {
        "colab": {
          "base_uri": "https://localhost:8080/"
        },
        "id": "y2DL3fiiukY9",
        "outputId": "19a8e16e-8722-42dd-a35b-1da74642499b"
      },
      "execution_count": 8,
      "outputs": [
        {
          "output_type": "stream",
          "name": "stdout",
          "text": [
            "InvoiceNo                           537022  539752  541115  541703  542238  \\\n",
            "Description                                                                  \n",
            "12 EGG HOUSE PAINTED WOOD              0.0     0.0     0.0     0.0     0.0   \n",
            "12 PENCILS TALL TUBE RED RETROSPOT     0.0     0.0     0.0     0.0     0.0   \n",
            "12 PENCILS TALL TUBE SKULLS            0.0     0.0     0.0     0.0     0.0   \n",
            "12 PENCILS TALL TUBE WOODLAND          0.0     0.0     0.0     0.0     0.0   \n",
            "16 PIECE CUTLERY SET PANTRY DESIGN     0.0     0.0     0.0     0.0     0.0   \n",
            "20 DOLLY PEGS RETROSPOT                0.0     0.0     0.0     0.0     0.0   \n",
            "3 GARDENIA MORRIS BOXED CANDLES        4.0     0.0     0.0     0.0     0.0   \n",
            "3 ROSE MORRIS BOXED CANDLES            4.0     0.0     0.0     0.0     0.0   \n",
            "3 STRIPEY MICE FELTCRAFT               0.0     0.0     0.0     0.0     0.0   \n",
            "3 TIER CAKE TIN RED AND CREAM          0.0     0.0     0.0     0.0     0.0   \n",
            "\n",
            "InvoiceNo                           544399  545664  546875  547914  547931  \\\n",
            "Description                                                                  \n",
            "12 EGG HOUSE PAINTED WOOD              0.0     0.0     2.0     0.0     0.0   \n",
            "12 PENCILS TALL TUBE RED RETROSPOT     0.0     0.0     0.0     0.0     0.0   \n",
            "12 PENCILS TALL TUBE SKULLS            0.0     0.0     0.0     0.0     0.0   \n",
            "12 PENCILS TALL TUBE WOODLAND          0.0     0.0     0.0     0.0     0.0   \n",
            "16 PIECE CUTLERY SET PANTRY DESIGN     0.0     0.0     0.0     0.0     0.0   \n",
            "20 DOLLY PEGS RETROSPOT                0.0     0.0     0.0     0.0     0.0   \n",
            "3 GARDENIA MORRIS BOXED CANDLES        0.0     0.0     0.0     0.0     0.0   \n",
            "3 ROSE MORRIS BOXED CANDLES            0.0     0.0     0.0     0.0     0.0   \n",
            "3 STRIPEY MICE FELTCRAFT               0.0     0.0     0.0     0.0     0.0   \n",
            "3 TIER CAKE TIN RED AND CREAM          0.0     0.0     0.0     0.0     0.0   \n",
            "\n",
            "InvoiceNo                           ...  C562423  C562425  C562969  C569949  \\\n",
            "Description                         ...                                       \n",
            "12 EGG HOUSE PAINTED WOOD           ...      0.0      0.0      0.0      0.0   \n",
            "12 PENCILS TALL TUBE RED RETROSPOT  ...      0.0      0.0      0.0      0.0   \n",
            "12 PENCILS TALL TUBE SKULLS         ...      0.0      0.0      0.0      0.0   \n",
            "12 PENCILS TALL TUBE WOODLAND       ...      0.0      0.0      0.0      0.0   \n",
            "16 PIECE CUTLERY SET PANTRY DESIGN  ...      0.0      0.0      0.0      0.0   \n",
            "20 DOLLY PEGS RETROSPOT             ...      0.0      0.0      0.0      0.0   \n",
            "3 GARDENIA MORRIS BOXED CANDLES     ...      0.0      0.0      0.0      0.0   \n",
            "3 ROSE MORRIS BOXED CANDLES         ...      0.0      0.0      0.0      0.0   \n",
            "3 STRIPEY MICE FELTCRAFT            ...      0.0      0.0      0.0      0.0   \n",
            "3 TIER CAKE TIN RED AND CREAM       ...      0.0      0.0      0.0      0.0   \n",
            "\n",
            "InvoiceNo                           C572761  C576199  C576216  C578239  \\\n",
            "Description                                                              \n",
            "12 EGG HOUSE PAINTED WOOD               0.0      0.0      0.0      0.0   \n",
            "12 PENCILS TALL TUBE RED RETROSPOT      0.0      0.0      0.0      0.0   \n",
            "12 PENCILS TALL TUBE SKULLS             0.0      0.0      0.0      0.0   \n",
            "12 PENCILS TALL TUBE WOODLAND           0.0      0.0      0.0      0.0   \n",
            "16 PIECE CUTLERY SET PANTRY DESIGN      0.0      0.0      0.0      0.0   \n",
            "20 DOLLY PEGS RETROSPOT                 0.0      0.0      0.0      0.0   \n",
            "3 GARDENIA MORRIS BOXED CANDLES         0.0      0.0      0.0      0.0   \n",
            "3 ROSE MORRIS BOXED CANDLES             0.0      0.0      0.0      0.0   \n",
            "3 STRIPEY MICE FELTCRAFT                0.0      0.0      0.0      0.0   \n",
            "3 TIER CAKE TIN RED AND CREAM           0.0      0.0      0.0      0.0   \n",
            "\n",
            "InvoiceNo                           C579785  C579864  \n",
            "Description                                           \n",
            "12 EGG HOUSE PAINTED WOOD               0.0      0.0  \n",
            "12 PENCILS TALL TUBE RED RETROSPOT      0.0      0.0  \n",
            "12 PENCILS TALL TUBE SKULLS             0.0      0.0  \n",
            "12 PENCILS TALL TUBE WOODLAND           0.0      0.0  \n",
            "16 PIECE CUTLERY SET PANTRY DESIGN      0.0      0.0  \n",
            "20 DOLLY PEGS RETROSPOT                 0.0      0.0  \n",
            "3 GARDENIA MORRIS BOXED CANDLES         0.0      0.0  \n",
            "3 ROSE MORRIS BOXED CANDLES             0.0      0.0  \n",
            "3 STRIPEY MICE FELTCRAFT                0.0      0.0  \n",
            "3 TIER CAKE TIN RED AND CREAM           0.0      0.0  \n",
            "\n",
            "[10 rows x 55 columns]\n",
            "Index(['12 EGG HOUSE PAINTED WOOD', '12 PENCILS TALL TUBE RED RETROSPOT',\n",
            "       '12 PENCILS TALL TUBE SKULLS', '12 PENCILS TALL TUBE WOODLAND',\n",
            "       '16 PIECE CUTLERY SET PANTRY DESIGN', '20 DOLLY PEGS RETROSPOT',\n",
            "       '3 GARDENIA MORRIS BOXED CANDLES', '3 ROSE MORRIS BOXED CANDLES',\n",
            "       '3 STRIPEY MICE FELTCRAFT', '3 TIER CAKE TIN RED AND CREAM',\n",
            "       ...\n",
            "       'WOODLAND BUNNIES LOLLY MAKERS', 'WOODLAND CHARLOTTE BAG',\n",
            "       'WRAP DOILEY DESIGN', 'WRAP ENGLISH ROSE', 'WRAP I LOVE LONDON',\n",
            "       'WRAP RED APPLES', 'WRAP RED VINTAGE DOILY',\n",
            "       'YOU'RE CONFUSING ME METAL SIGN', 'ZINC BOX SIGN HOME',\n",
            "       'ZINC FOLKART SLEIGH BELLS'],\n",
            "      dtype='object', name='Description', length=479)\n",
            "(55, 479)\n"
          ]
        }
      ]
    },
    {
      "cell_type": "code",
      "source": [
        "# veamos los items más frecuentes, le ponemos un soporte mínimo de 10%\n",
        "basket_ok[basket_ok >= 1.] = 1.\n",
        "basket_ok[basket_ok < 1.] = 0.\n",
        "\n",
        "print(~basket_ok.T.isin([0., 1.]).any())\n",
        "#print(basket_ok.head())"
      ],
      "metadata": {
        "colab": {
          "base_uri": "https://localhost:8080/"
        },
        "id": "xEzL-iEvuttr",
        "outputId": "15d5b0bf-8b4e-42a0-f737-1c8b64d96823"
      },
      "execution_count": 9,
      "outputs": [
        {
          "output_type": "stream",
          "name": "stdout",
          "text": [
            "InvoiceNo\n",
            "537022     False\n",
            "539752     False\n",
            "541115     False\n",
            "541703     False\n",
            "542238     False\n",
            "544399     False\n",
            "545664     False\n",
            "546875     False\n",
            "547914     False\n",
            "547931     False\n",
            "549233     False\n",
            "550606     False\n",
            "555107     False\n",
            "555843     False\n",
            "556119     False\n",
            "561259     False\n",
            "562424     False\n",
            "562528     False\n",
            "562922     False\n",
            "564476     False\n",
            "567478     False\n",
            "570919     False\n",
            "571670     False\n",
            "572457     False\n",
            "572695     False\n",
            "572934     False\n",
            "573365     False\n",
            "573508     False\n",
            "573768     False\n",
            "574022     False\n",
            "576907     False\n",
            "577178     False\n",
            "577316     False\n",
            "577609     False\n",
            "577809     False\n",
            "578078     False\n",
            "578108     False\n",
            "580746     False\n",
            "C537232    False\n",
            "C540129    False\n",
            "C542273    False\n",
            "C543743    False\n",
            "C546501    False\n",
            "C547930    False\n",
            "C558439    False\n",
            "C562423    False\n",
            "C562425    False\n",
            "C562969    False\n",
            "C569949    False\n",
            "C572761    False\n",
            "C576199    False\n",
            "C576216    False\n",
            "C578239    False\n",
            "C579785    False\n",
            "C579864    False\n",
            "dtype: bool\n"
          ]
        }
      ]
    },
    {
      "cell_type": "code",
      "source": [
        "frequent_itemsets = apriori(basket_ok, min_support=0.05, use_colnames=True)\n"
      ],
      "metadata": {
        "id": "kvm4ODo6uu24"
      },
      "execution_count": 10,
      "outputs": []
    },
    {
      "cell_type": "code",
      "source": [
        "print(frequent_itemsets.head(10))\n",
        "print(frequent_itemsets.tail(10))\n",
        "print(frequent_itemsets.columns)\n",
        "print(frequent_itemsets.shape)"
      ],
      "metadata": {
        "colab": {
          "base_uri": "https://localhost:8080/"
        },
        "id": "tGogp-NkuyCP",
        "outputId": "aa90eb95-7f52-4611-d0fe-91dc02456941"
      },
      "execution_count": 11,
      "outputs": [
        {
          "output_type": "stream",
          "name": "stdout",
          "text": [
            "    support                          itemsets\n",
            "0  0.072727           (ABC TREASURE BOOK BOX)\n",
            "1  0.054545       (ADULT APRON APPLE DELIGHT)\n",
            "2  0.072727    (BAKING SET 9 PIECE RETROSPOT)\n",
            "3  0.109091     (BREAD BIN DINER STYLE IVORY)\n",
            "4  0.054545      (BREAD BIN DINER STYLE PINK)\n",
            "5  0.109091   (CHILDRENS APRON APPLES DESIGN)\n",
            "6  0.090909                 (DOORMAT AIRMAIL)\n",
            "7  0.072727  (DOORMAT SPOTTY HOME SWEET HOME)\n",
            "8  0.109091              (DOORMAT UNION FLAG)\n",
            "9  0.109091     (DOORMAT WELCOME TO OUR HOME)\n",
            "      support                                           itemsets\n",
            "258  0.054545  (SET OF 20 KIDS COOKIE CUTTERS, RETROSPOT TEA ...\n",
            "259  0.054545  (DOORMAT UNION FLAG, BREAD BIN DINER STYLE IVO...\n",
            "260  0.054545  (JUMBO BAG WOODLAND ANIMALS, TOY TIDY PINK POL...\n",
            "261  0.054545  (TOY TIDY SPACEBOY, JUMBO BAG WOODLAND ANIMALS...\n",
            "262  0.054545  (TOY TIDY SPACEBOY, JUMBO BAG WOODLAND ANIMALS...\n",
            "263  0.054545  (TOY TIDY SPACEBOY, TOY TIDY PINK POLKADOT, RE...\n",
            "264  0.054545  (TOY TIDY SPACEBOY, JUMBO BAG WOODLAND ANIMALS...\n",
            "265  0.054545  (GINGERBREAD MAN COOKIE CUTTER, SET OF 20 KIDS...\n",
            "266  0.054545  (TOY TIDY SPACEBOY, JUMBO BAG WOODLAND ANIMALS...\n",
            "267  0.054545  (TOY TIDY SPACEBOY, JUMBO BAG WOODLAND ANIMALS...\n",
            "Index(['support', 'itemsets'], dtype='object')\n",
            "(268, 2)\n"
          ]
        }
      ]
    },
    {
      "cell_type": "code",
      "source": [
        "rules = association_rules(frequent_itemsets, \n",
        "                          metric=\"confidence\", min_threshold=0.5)\n",
        "print(rules.head())"
      ],
      "metadata": {
        "colab": {
          "base_uri": "https://localhost:8080/"
        },
        "id": "5alimEVyu08J",
        "outputId": "78958b10-78ec-44a1-fd9b-230f60b31537"
      },
      "execution_count": 12,
      "outputs": [
        {
          "output_type": "stream",
          "name": "stdout",
          "text": [
            "                     antecedents                    consequents  \\\n",
            "0        (ABC TREASURE BOOK BOX)  (RED RETROSPOT CHARLOTTE BAG)   \n",
            "1  (RED RETROSPOT CHARLOTTE BAG)        (ABC TREASURE BOOK BOX)   \n",
            "2        (ABC TREASURE BOOK BOX)       (WOODLAND CHARLOTTE BAG)   \n",
            "3       (WOODLAND CHARLOTTE BAG)        (ABC TREASURE BOOK BOX)   \n",
            "4           (DOORMAT UNION FLAG)  (BREAD BIN DINER STYLE IVORY)   \n",
            "\n",
            "   antecedent support  consequent support   support  confidence       lift  \\\n",
            "0            0.072727            0.054545  0.054545    0.750000  13.750000   \n",
            "1            0.054545            0.072727  0.054545    1.000000  13.750000   \n",
            "2            0.072727            0.054545  0.054545    0.750000  13.750000   \n",
            "3            0.054545            0.072727  0.054545    1.000000  13.750000   \n",
            "4            0.109091            0.109091  0.072727    0.666667   6.111111   \n",
            "\n",
            "   leverage  conviction  \n",
            "0  0.050579    3.781818  \n",
            "1  0.050579         inf  \n",
            "2  0.050579    3.781818  \n",
            "3  0.050579         inf  \n",
            "4  0.060826    2.672727  \n"
          ]
        }
      ]
    },
    {
      "cell_type": "code",
      "source": [
        "rules.tail()"
      ],
      "metadata": {
        "colab": {
          "base_uri": "https://localhost:8080/",
          "height": 354
        },
        "id": "ARQuc0VnHT0u",
        "outputId": "9dee24df-38de-4f5c-f202-ac76c9fbad74"
      },
      "execution_count": 13,
      "outputs": [
        {
          "output_type": "execute_result",
          "data": {
            "text/plain": [
              "                          antecedents  \\\n",
              "1315     (JUMBO BAG WOODLAND ANIMALS)   \n",
              "1316         (TOY TIDY PINK POLKADOT)   \n",
              "1317        (RECYCLING BAG RETROSPOT)   \n",
              "1318  (CHILDRENS APRON APPLES DESIGN)   \n",
              "1319                 (JUMBO BAG TOYS)   \n",
              "\n",
              "                                            consequents  antecedent support  \\\n",
              "1315  (TOY TIDY SPACEBOY, TOY TIDY PINK POLKADOT, RE...            0.072727   \n",
              "1316  (TOY TIDY SPACEBOY, JUMBO BAG WOODLAND ANIMALS...            0.090909   \n",
              "1317  (TOY TIDY SPACEBOY, JUMBO BAG WOODLAND ANIMALS...            0.109091   \n",
              "1318  (TOY TIDY SPACEBOY, JUMBO BAG WOODLAND ANIMALS...            0.109091   \n",
              "1319  (TOY TIDY SPACEBOY, JUMBO BAG WOODLAND ANIMALS...            0.054545   \n",
              "\n",
              "      consequent support   support  confidence       lift  leverage  \\\n",
              "1315            0.054545  0.054545        0.75  13.750000  0.050579   \n",
              "1316            0.054545  0.054545        0.60  11.000000  0.049587   \n",
              "1317            0.054545  0.054545        0.50   9.166667  0.048595   \n",
              "1318            0.054545  0.054545        0.50   9.166667  0.048595   \n",
              "1319            0.054545  0.054545        1.00  18.333333  0.051570   \n",
              "\n",
              "      conviction  \n",
              "1315    3.781818  \n",
              "1316    2.363636  \n",
              "1317    1.890909  \n",
              "1318    1.890909  \n",
              "1319         inf  "
            ],
            "text/html": [
              "\n",
              "  <div id=\"df-46c90510-fa04-4af7-a317-2cb93b035476\">\n",
              "    <div class=\"colab-df-container\">\n",
              "      <div>\n",
              "<style scoped>\n",
              "    .dataframe tbody tr th:only-of-type {\n",
              "        vertical-align: middle;\n",
              "    }\n",
              "\n",
              "    .dataframe tbody tr th {\n",
              "        vertical-align: top;\n",
              "    }\n",
              "\n",
              "    .dataframe thead th {\n",
              "        text-align: right;\n",
              "    }\n",
              "</style>\n",
              "<table border=\"1\" class=\"dataframe\">\n",
              "  <thead>\n",
              "    <tr style=\"text-align: right;\">\n",
              "      <th></th>\n",
              "      <th>antecedents</th>\n",
              "      <th>consequents</th>\n",
              "      <th>antecedent support</th>\n",
              "      <th>consequent support</th>\n",
              "      <th>support</th>\n",
              "      <th>confidence</th>\n",
              "      <th>lift</th>\n",
              "      <th>leverage</th>\n",
              "      <th>conviction</th>\n",
              "    </tr>\n",
              "  </thead>\n",
              "  <tbody>\n",
              "    <tr>\n",
              "      <th>1315</th>\n",
              "      <td>(JUMBO BAG WOODLAND ANIMALS)</td>\n",
              "      <td>(TOY TIDY SPACEBOY, TOY TIDY PINK POLKADOT, RE...</td>\n",
              "      <td>0.072727</td>\n",
              "      <td>0.054545</td>\n",
              "      <td>0.054545</td>\n",
              "      <td>0.75</td>\n",
              "      <td>13.750000</td>\n",
              "      <td>0.050579</td>\n",
              "      <td>3.781818</td>\n",
              "    </tr>\n",
              "    <tr>\n",
              "      <th>1316</th>\n",
              "      <td>(TOY TIDY PINK POLKADOT)</td>\n",
              "      <td>(TOY TIDY SPACEBOY, JUMBO BAG WOODLAND ANIMALS...</td>\n",
              "      <td>0.090909</td>\n",
              "      <td>0.054545</td>\n",
              "      <td>0.054545</td>\n",
              "      <td>0.60</td>\n",
              "      <td>11.000000</td>\n",
              "      <td>0.049587</td>\n",
              "      <td>2.363636</td>\n",
              "    </tr>\n",
              "    <tr>\n",
              "      <th>1317</th>\n",
              "      <td>(RECYCLING BAG RETROSPOT)</td>\n",
              "      <td>(TOY TIDY SPACEBOY, JUMBO BAG WOODLAND ANIMALS...</td>\n",
              "      <td>0.109091</td>\n",
              "      <td>0.054545</td>\n",
              "      <td>0.054545</td>\n",
              "      <td>0.50</td>\n",
              "      <td>9.166667</td>\n",
              "      <td>0.048595</td>\n",
              "      <td>1.890909</td>\n",
              "    </tr>\n",
              "    <tr>\n",
              "      <th>1318</th>\n",
              "      <td>(CHILDRENS APRON APPLES DESIGN)</td>\n",
              "      <td>(TOY TIDY SPACEBOY, JUMBO BAG WOODLAND ANIMALS...</td>\n",
              "      <td>0.109091</td>\n",
              "      <td>0.054545</td>\n",
              "      <td>0.054545</td>\n",
              "      <td>0.50</td>\n",
              "      <td>9.166667</td>\n",
              "      <td>0.048595</td>\n",
              "      <td>1.890909</td>\n",
              "    </tr>\n",
              "    <tr>\n",
              "      <th>1319</th>\n",
              "      <td>(JUMBO BAG TOYS)</td>\n",
              "      <td>(TOY TIDY SPACEBOY, JUMBO BAG WOODLAND ANIMALS...</td>\n",
              "      <td>0.054545</td>\n",
              "      <td>0.054545</td>\n",
              "      <td>0.054545</td>\n",
              "      <td>1.00</td>\n",
              "      <td>18.333333</td>\n",
              "      <td>0.051570</td>\n",
              "      <td>inf</td>\n",
              "    </tr>\n",
              "  </tbody>\n",
              "</table>\n",
              "</div>\n",
              "      <button class=\"colab-df-convert\" onclick=\"convertToInteractive('df-46c90510-fa04-4af7-a317-2cb93b035476')\"\n",
              "              title=\"Convert this dataframe to an interactive table.\"\n",
              "              style=\"display:none;\">\n",
              "        \n",
              "  <svg xmlns=\"http://www.w3.org/2000/svg\" height=\"24px\"viewBox=\"0 0 24 24\"\n",
              "       width=\"24px\">\n",
              "    <path d=\"M0 0h24v24H0V0z\" fill=\"none\"/>\n",
              "    <path d=\"M18.56 5.44l.94 2.06.94-2.06 2.06-.94-2.06-.94-.94-2.06-.94 2.06-2.06.94zm-11 1L8.5 8.5l.94-2.06 2.06-.94-2.06-.94L8.5 2.5l-.94 2.06-2.06.94zm10 10l.94 2.06.94-2.06 2.06-.94-2.06-.94-.94-2.06-.94 2.06-2.06.94z\"/><path d=\"M17.41 7.96l-1.37-1.37c-.4-.4-.92-.59-1.43-.59-.52 0-1.04.2-1.43.59L10.3 9.45l-7.72 7.72c-.78.78-.78 2.05 0 2.83L4 21.41c.39.39.9.59 1.41.59.51 0 1.02-.2 1.41-.59l7.78-7.78 2.81-2.81c.8-.78.8-2.07 0-2.86zM5.41 20L4 18.59l7.72-7.72 1.47 1.35L5.41 20z\"/>\n",
              "  </svg>\n",
              "      </button>\n",
              "      \n",
              "  <style>\n",
              "    .colab-df-container {\n",
              "      display:flex;\n",
              "      flex-wrap:wrap;\n",
              "      gap: 12px;\n",
              "    }\n",
              "\n",
              "    .colab-df-convert {\n",
              "      background-color: #E8F0FE;\n",
              "      border: none;\n",
              "      border-radius: 50%;\n",
              "      cursor: pointer;\n",
              "      display: none;\n",
              "      fill: #1967D2;\n",
              "      height: 32px;\n",
              "      padding: 0 0 0 0;\n",
              "      width: 32px;\n",
              "    }\n",
              "\n",
              "    .colab-df-convert:hover {\n",
              "      background-color: #E2EBFA;\n",
              "      box-shadow: 0px 1px 2px rgba(60, 64, 67, 0.3), 0px 1px 3px 1px rgba(60, 64, 67, 0.15);\n",
              "      fill: #174EA6;\n",
              "    }\n",
              "\n",
              "    [theme=dark] .colab-df-convert {\n",
              "      background-color: #3B4455;\n",
              "      fill: #D2E3FC;\n",
              "    }\n",
              "\n",
              "    [theme=dark] .colab-df-convert:hover {\n",
              "      background-color: #434B5C;\n",
              "      box-shadow: 0px 1px 3px 1px rgba(0, 0, 0, 0.15);\n",
              "      filter: drop-shadow(0px 1px 2px rgba(0, 0, 0, 0.3));\n",
              "      fill: #FFFFFF;\n",
              "    }\n",
              "  </style>\n",
              "\n",
              "      <script>\n",
              "        const buttonEl =\n",
              "          document.querySelector('#df-46c90510-fa04-4af7-a317-2cb93b035476 button.colab-df-convert');\n",
              "        buttonEl.style.display =\n",
              "          google.colab.kernel.accessAllowed ? 'block' : 'none';\n",
              "\n",
              "        async function convertToInteractive(key) {\n",
              "          const element = document.querySelector('#df-46c90510-fa04-4af7-a317-2cb93b035476');\n",
              "          const dataTable =\n",
              "            await google.colab.kernel.invokeFunction('convertToInteractive',\n",
              "                                                     [key], {});\n",
              "          if (!dataTable) return;\n",
              "\n",
              "          const docLinkHtml = 'Like what you see? Visit the ' +\n",
              "            '<a target=\"_blank\" href=https://colab.research.google.com/notebooks/data_table.ipynb>data table notebook</a>'\n",
              "            + ' to learn more about interactive tables.';\n",
              "          element.innerHTML = '';\n",
              "          dataTable['output_type'] = 'display_data';\n",
              "          await google.colab.output.renderOutput(dataTable, element);\n",
              "          const docLink = document.createElement('div');\n",
              "          docLink.innerHTML = docLinkHtml;\n",
              "          element.appendChild(docLink);\n",
              "        }\n",
              "      </script>\n",
              "    </div>\n",
              "  </div>\n",
              "  "
            ]
          },
          "metadata": {},
          "execution_count": 13
        }
      ]
    },
    {
      "cell_type": "code",
      "source": [
        "rules.shape"
      ],
      "metadata": {
        "colab": {
          "base_uri": "https://localhost:8080/"
        },
        "id": "pJjUXu_IHkZq",
        "outputId": "96a39c71-fc21-4afa-d864-a6c0f328e53f"
      },
      "execution_count": 14,
      "outputs": [
        {
          "output_type": "execute_result",
          "data": {
            "text/plain": [
              "(1320, 9)"
            ]
          },
          "metadata": {},
          "execution_count": 14
        }
      ]
    },
    {
      "cell_type": "code",
      "source": [
        "print(rules.columns)\n",
        "print(rules.shape)"
      ],
      "metadata": {
        "colab": {
          "base_uri": "https://localhost:8080/"
        },
        "id": "YHNnubk5u32g",
        "outputId": "34600317-64a3-4d36-a8c1-cda06fb9b83c"
      },
      "execution_count": null,
      "outputs": [
        {
          "output_type": "stream",
          "name": "stdout",
          "text": [
            "Index(['antecedents', 'consequents', 'antecedent support',\n",
            "       'consequent support', 'support', 'confidence', 'lift', 'leverage',\n",
            "       'conviction'],\n",
            "      dtype='object')\n",
            "(1320, 9)\n"
          ]
        }
      ]
    },
    {
      "cell_type": "code",
      "source": [
        "# veamos si cambia usando otra métrica\n",
        " \n",
        "rules2 = association_rules(frequent_itemsets, metric=\"lift\", min_threshold=5)\n",
        "print(rules2.head())\n",
        "print(rules2.shape)\n",
        "\n"
      ],
      "metadata": {
        "colab": {
          "base_uri": "https://localhost:8080/"
        },
        "id": "bGfiojzdu6yt",
        "outputId": "d03cf2b1-89ca-42cd-c0e1-fe3fda66681a"
      },
      "execution_count": 16,
      "outputs": [
        {
          "output_type": "stream",
          "name": "stdout",
          "text": [
            "                     antecedents                    consequents  \\\n",
            "0        (ABC TREASURE BOOK BOX)  (RED RETROSPOT CHARLOTTE BAG)   \n",
            "1  (RED RETROSPOT CHARLOTTE BAG)        (ABC TREASURE BOOK BOX)   \n",
            "2        (ABC TREASURE BOOK BOX)       (WOODLAND CHARLOTTE BAG)   \n",
            "3       (WOODLAND CHARLOTTE BAG)        (ABC TREASURE BOOK BOX)   \n",
            "4           (DOORMAT UNION FLAG)  (BREAD BIN DINER STYLE IVORY)   \n",
            "\n",
            "   antecedent support  consequent support   support  confidence       lift  \\\n",
            "0            0.072727            0.054545  0.054545    0.750000  13.750000   \n",
            "1            0.054545            0.072727  0.054545    1.000000  13.750000   \n",
            "2            0.072727            0.054545  0.054545    0.750000  13.750000   \n",
            "3            0.054545            0.072727  0.054545    1.000000  13.750000   \n",
            "4            0.109091            0.109091  0.072727    0.666667   6.111111   \n",
            "\n",
            "   leverage  conviction  \n",
            "0  0.050579    3.781818  \n",
            "1  0.050579         inf  \n",
            "2  0.050579    3.781818  \n",
            "3  0.050579         inf  \n",
            "4  0.060826    2.672727  \n",
            "(1318, 9)\n"
          ]
        }
      ]
    },
    {
      "cell_type": "code",
      "source": [],
      "metadata": {
        "id": "XLB1aZmazA7Q"
      },
      "execution_count": null,
      "outputs": []
    }
  ]
}